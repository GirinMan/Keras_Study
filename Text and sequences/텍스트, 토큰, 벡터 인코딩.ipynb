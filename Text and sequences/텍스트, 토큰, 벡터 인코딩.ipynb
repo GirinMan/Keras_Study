{
 "cells": [
  {
   "cell_type": "markdown",
   "metadata": {},
   "source": [
    "# 머신 러닝을 위한 텍스트 전처리\n",
    "## 1. One-Hot 인코딩\n",
    "- 분류, 회귀 등 다양한 문제를 해결하기 위해 텍스트 데이터를 훈련시키기 위해서는 keras 모델이 받아들일 수 있는 형태인 넘파이 텐서 형태로 데이터를 변환해야 한다.\n",
    "- 다양한 방법 중 하나인 One-Hot 인코딩은 각각의 단어 또는 문자마다 인덱스를 할당하여 해당 인덱스에 binary 형식으로 존재 유무를 표기하는 방식이다. 구현이 쉽고 간단하지만, 텐서의 대부분이 비어 있어 비효율적이라는 것이 단점이다.\n",
    "- 단어 수준의 One-Hot 인코딩은 아래와 같이 구현해 볼 수 있다."
   ]
  },
  {
   "cell_type": "code",
   "execution_count": 2,
   "metadata": {},
   "outputs": [],
   "source": [
    "import numpy as np\n",
    "\n",
    "samples = ['The cat sat on the mat.', 'The dog ate my homework.']\n",
    "\n",
    "token_index = {}\n",
    "for sample in samples:\n",
    "    for word in sample.split():\n",
    "        if word not in token_index:\n",
    "            token_index[word] = len(token_index) + 1\n",
    "max_length = 10\n",
    "\n",
    "results = np.zeros(shape=(len(samples), max_length,\n",
    "                   max(token_index.values()) + 1))\n",
    "\n",
    "for i, sample in enumerate(samples):\n",
    "    for j, word in list(enumerate(sample.split()))[:max_length]:\n",
    "        index = token_index.get(word)\n",
    "        results[i, j, index] = 1.\n"
   ]
  },
  {
   "cell_type": "markdown",
   "metadata": {},
   "source": [
    "- 단어보다 더 작은 단위인 문자 수준으로 One-Hot 인코딩을 진행할 경우, 각 문자별로 인덱스를 할당하여 존재 여부를 표시하면 된다."
   ]
  },
  {
   "cell_type": "code",
   "execution_count": 3,
   "metadata": {},
   "outputs": [],
   "source": [
    "import string\n",
    "samples = ['The cat sat on the mat.', 'The dog ate my homework.']\n",
    "characters = string.printable\n",
    "token_index = dict(zip(characters, range(1, len(characters) + 1)))\n",
    "\n",
    "max_length = 50\n",
    "results = np.zeros((len(samples), max_length, max(token_index.values()) + 1))\n",
    "for i, sample in enumerate(samples):\n",
    "    for j, character in enumerate(sample):\n",
    "        index = token_index.get(character)\n",
    "        results[i, j, index] = 1."
   ]
  },
  {
   "cell_type": "markdown",
   "metadata": {},
   "source": [
    "- 고유한 토큰의 수가 너무 커서 모두 다루기 어려울 때는 Hashing을 활용하여 One-Hot 인코딩을 위한 인덱스를 생성하는 방법도 있다. 다만 이 방법을 사용하면 해쉬 테이블의 크기가 토큰의 양을 감당할 수 없을 경우 정확도가 떨어질 수 있다."
   ]
  },
  {
   "cell_type": "code",
   "execution_count": 4,
   "metadata": {},
   "outputs": [
    {
     "name": "stdout",
     "output_type": "stream",
     "text": [
      "126 117 984 437 755 546 \n",
      "The cat sat on the mat. \n",
      "126 179 408 782 186 \n",
      "The dog ate my homework. \n",
      "393 234 755 341 217 279 665 651 393 287 200 755 868 234 888 412 152 279 731 751 861 653 651 230 755 371 152 279 117 716 279 688 405 630 95 415 279 538 169 111 85 633 369 947 732 126 161 \n",
      "saves of the night comes a man who saves lives at the risk of his own. Once a circus performer, an aerialist who refused the net. Once a cat burglar, a master among jewel thieves. Now a professional bodyguard. Primitive... savage... in love with danger. The Cat! \n"
     ]
    }
   ],
   "source": [
    "samples = ['The cat sat on the mat.', 'The dog ate my homework.', \n",
    "'Out of the night comes a man who saves lives at the risk of his own. Once a circus performer, an aerialist who refused the net. Once a cat burglar, a master among jewel thieves. Now a professional bodyguard. Primitive... savage... in love with danger. The Cat!']\n",
    "\n",
    "dimensionality = 1000\n",
    "max_length = 100\n",
    "\n",
    "results = np.zeros((len(samples), max_length, dimensionality))\n",
    "\n",
    "dic = {}\n",
    "\n",
    "for i, words in enumerate(samples):\n",
    "    for j, word in enumerate(words.split()[:max_length]):\n",
    "        index = abs(hash(word)) % dimensionality\n",
    "        dic[index] = word\n",
    "        results[i, j, index] = 1.\n",
    "\n",
    "\n",
    "for i in results:\n",
    "    string = ''\n",
    "    result = ''\n",
    "    for j in i:\n",
    "        index = 0\n",
    "        for k in j:\n",
    "            if not (k == 0):\n",
    "                string += str(index) + ' '\n",
    "                result += dic[index] + ' '\n",
    "            index += 1\n",
    "    print(string)\n",
    "    print(result)"
   ]
  },
  {
   "cell_type": "markdown",
   "metadata": {},
   "source": [
    "## 2. 단어 Embedding 벡터 사용하기\n",
    "- One-Hot 인코딩으로 만든 벡터는 sparse하고 고차원인데 반해, 상대적으로 저차원의 실수형 벡터 방식으로 단어와 벡터를 연관 지을 수 있는 Embedding 방법을 사용해 보자.\n",
    "- One-Hot 인코딩과는 달리, Embedding 벡터는 데이터로부터 학습된다. 같은 차원의 One Hot 인코딩보다 더 많은 정보를 저장할 수 있다는 장점이 있다.\n",
    "- Keras에서는 Embedding 층을 활용하여 학습시킬 수 있으며, 다른 모델과 마찬가지로 사전에 훈련된 임베딩 벡터를 적용할 수도 있다."
   ]
  },
  {
   "cell_type": "code",
   "execution_count": 5,
   "metadata": {},
   "outputs": [],
   "source": [
    "from tensorflow.keras.layers import Embedding\n",
    "\n",
    "embedding_layer = Embedding(1000, 64) # Params: (# of max tokens, dimension)"
   ]
  },
  {
   "cell_type": "code",
   "execution_count": 6,
   "metadata": {},
   "outputs": [],
   "source": [
    "from tensorflow.keras.datasets import imdb\n",
    "from tensorflow.keras import preprocessing\n",
    "\n",
    "max_features = 10000\n",
    "maxlen = 20\n",
    "\n",
    "(x_train, y_train), (x_test, y_test) = imdb.load_data(num_words=max_features)\n",
    "\n",
    "x_train = preprocessing.sequence.pad_sequences(x_train, maxlen=maxlen)\n",
    "x_test = preprocessing.sequence.pad_sequences(x_test, maxlen=maxlen)"
   ]
  },
  {
   "cell_type": "code",
   "execution_count": 7,
   "metadata": {},
   "outputs": [
    {
     "name": "stdout",
     "output_type": "stream",
     "text": [
      "Model: \"sequential\"\n",
      "_________________________________________________________________\n",
      " Layer (type)                Output Shape              Param #   \n",
      "=================================================================\n",
      " embedding_1 (Embedding)     (None, 20, 8)             80000     \n",
      "                                                                 \n",
      " flatten (Flatten)           (None, 160)               0         \n",
      "                                                                 \n",
      " dense (Dense)               (None, 1)                 161       \n",
      "                                                                 \n",
      "=================================================================\n",
      "Total params: 80,161\n",
      "Trainable params: 80,161\n",
      "Non-trainable params: 0\n",
      "_________________________________________________________________\n",
      "Epoch 1/10\n",
      "625/625 [==============================] - 6s 6ms/step - loss: 0.6658 - acc: 0.6285 - val_loss: 0.6122 - val_acc: 0.7012\n",
      "Epoch 2/10\n",
      "625/625 [==============================] - 4s 6ms/step - loss: 0.5370 - acc: 0.7524 - val_loss: 0.5237 - val_acc: 0.7336\n",
      "Epoch 3/10\n",
      "625/625 [==============================] - 4s 7ms/step - loss: 0.4596 - acc: 0.7886 - val_loss: 0.5001 - val_acc: 0.7522\n",
      "Epoch 4/10\n",
      "625/625 [==============================] - 5s 7ms/step - loss: 0.4209 - acc: 0.8084 - val_loss: 0.4943 - val_acc: 0.7526\n",
      "Epoch 5/10\n",
      "625/625 [==============================] - 5s 7ms/step - loss: 0.3936 - acc: 0.8233 - val_loss: 0.4944 - val_acc: 0.7572\n",
      "Epoch 6/10\n",
      "625/625 [==============================] - 5s 8ms/step - loss: 0.3711 - acc: 0.8354 - val_loss: 0.5003 - val_acc: 0.7530\n",
      "Epoch 7/10\n",
      "625/625 [==============================] - 4s 7ms/step - loss: 0.3510 - acc: 0.8488 - val_loss: 0.5047 - val_acc: 0.7550\n",
      "Epoch 8/10\n",
      "625/625 [==============================] - 4s 7ms/step - loss: 0.3325 - acc: 0.8595 - val_loss: 0.5118 - val_acc: 0.7528\n",
      "Epoch 9/10\n",
      "625/625 [==============================] - 4s 7ms/step - loss: 0.3148 - acc: 0.8665 - val_loss: 0.5196 - val_acc: 0.7532\n",
      "Epoch 10/10\n",
      "625/625 [==============================] - 4s 7ms/step - loss: 0.2981 - acc: 0.8762 - val_loss: 0.5286 - val_acc: 0.7518\n"
     ]
    }
   ],
   "source": [
    "from tensorflow.keras.models import Sequential\n",
    "from tensorflow.keras.layers import Flatten, Dense, Embedding\n",
    "\n",
    "model = Sequential()\n",
    "model.add(Embedding(10000, 8, input_length=maxlen))\n",
    "model.add(Flatten())\n",
    "model.add(Dense(1, activation='sigmoid'))\n",
    "model.compile(optimizer='rmsprop', loss='binary_crossentropy', metrics=['acc'])\n",
    "model.summary()\n",
    "\n",
    "history = model.fit(x_train, y_train, epochs = 10, batch_size=32, validation_split=0.2)"
   ]
  },
  {
   "cell_type": "markdown",
   "metadata": {},
   "source": [
    "- 사전 훈련된 Embedding 공간을 사용하여 IMDB 데이터를 학습한다.\n",
    "  \n",
    "- 케라스에 기본 탑재된 IMDB 데이터는 이미 각 단어별로 인덱스가 부여되어 있기 때문에, 토큰화 되어있지 않은 원본 데이터를 다운받아 사용한다. 링크: http://mng.bz/0tIo"
   ]
  },
  {
   "cell_type": "code",
   "execution_count": 8,
   "metadata": {},
   "outputs": [],
   "source": [
    "import os\n",
    "\n",
    "imdb_dir = '../datasets/aclImdb'\n",
    "train_dir = os.path.join(imdb_dir, 'train')\n",
    "\n",
    "labels = []\n",
    "texts = []\n",
    "\n",
    "for label_type in ['neg', 'pos']:\n",
    "    dir_name = os.path.join(train_dir, label_type)\n",
    "    for fname in os.listdir(dir_name):\n",
    "        if fname[-4:] == '.txt':\n",
    "            f = open(os.path.join(dir_name, fname), encoding='utf8')\n",
    "            texts.append(f.read())\n",
    "            f.close()\n",
    "            if label_type == 'neg':\n",
    "                labels.append(0)\n",
    "            else:\n",
    "                labels.append(1)"
   ]
  },
  {
   "cell_type": "code",
   "execution_count": 9,
   "metadata": {},
   "outputs": [
    {
     "name": "stdout",
     "output_type": "stream",
     "text": [
      "88582개의 고유한 토큰을 찾았습니다.\n",
      "데이터 텐서의 크기: (25000, 100)\n",
      "레이블 텐서의 크기: (25000,)\n",
      "(200, 100) (200, 1) (10000, 100) (10000, 1)\n"
     ]
    }
   ],
   "source": [
    "from tensorflow.keras.preprocessing.text import Tokenizer\n",
    "from tensorflow.keras.preprocessing.sequence import pad_sequences\n",
    "\n",
    "maxlen = 100\n",
    "training_samples = 200\n",
    "validation_samples = 10000\n",
    "max_words = 10000\n",
    "\n",
    "tokenizer = Tokenizer(num_words=max_words)\n",
    "tokenizer.fit_on_texts(texts)\n",
    "sequences = tokenizer.texts_to_sequences(texts)\n",
    "\n",
    "word_index = tokenizer.word_index\n",
    "print('%s개의 고유한 토큰을 찾았습니다.' % len(word_index))\n",
    "\n",
    "data = pad_sequences(sequences, maxlen=maxlen)\n",
    "labels = np.asarray(labels)\n",
    "print('데이터 텐서의 크기:', data.shape)\n",
    "print('레이블 텐서의 크기:', labels.shape)\n",
    "\n",
    "indices = np.arange(data.shape[0])\n",
    "np.random.shuffle(indices)\n",
    "data = data[indices]\n",
    "labels = labels[indices]\n",
    "\n",
    "x_train = data[:training_samples]\n",
    "y_train = labels[:training_samples].reshape((-1,1))\n",
    "\n",
    "x_val = data[training_samples: training_samples + validation_samples]\n",
    "y_val = labels[training_samples: training_samples + validation_samples].reshape((-1,1))\n",
    "print(x_train.shape, y_train.shape, x_val.shape, y_val.shape)"
   ]
  },
  {
   "cell_type": "markdown",
   "metadata": {},
   "source": [
    "- 이미지 분류 문제에서 사전 훈련된 네트워크를 사용했던 것 처럼, https://nlp.stanford.edu/projects/glove 에서 사전 계산된 Embedding을 다운받아 사용한다."
   ]
  },
  {
   "cell_type": "code",
   "execution_count": 10,
   "metadata": {},
   "outputs": [
    {
     "name": "stdout",
     "output_type": "stream",
     "text": [
      "400000개의 단어 벡터를 찾았습니다.\n"
     ]
    }
   ],
   "source": [
    "glove_dir = '../datasets/'\n",
    "\n",
    "embeddings_index = {}\n",
    "f = open(os.path.join(glove_dir, 'glove.6B.100d.txt'), encoding='utf8')\n",
    "for line in f:\n",
    "    values = line.split()\n",
    "    word = values[0]\n",
    "    coefs = np.asarray(values[1:], dtype='float32')\n",
    "    embeddings_index[word] = coefs\n",
    "f.close()\n",
    "\n",
    "print('%s개의 단어 벡터를 찾았습니다.' % len(embeddings_index))"
   ]
  },
  {
   "cell_type": "code",
   "execution_count": 11,
   "metadata": {},
   "outputs": [],
   "source": [
    "embedding_dim = 100\n",
    "embedding_matrix = np.zeros((max_words, embedding_dim))\n",
    "for word, i in word_index.items():\n",
    "    if i < max_words:\n",
    "        embedding_vector = embeddings_index.get(word)\n",
    "        if embedding_vector is not None:\n",
    "            embedding_matrix[i] = embedding_vector"
   ]
  },
  {
   "cell_type": "markdown",
   "metadata": {},
   "source": [
    "- 10000개의 단어를 표현하기 위해 10000차원이 필요했던 One-Hot 인코딩과 달리, 사전 훈련된 임베딩을 활용하여 100차원만으로 단어에 대한 벡터를 구현할 수 있다.\n",
    "- 케라스 모델을 구성하고 Embedding 층을 만든 뒤 미리 구축해놓은 임베딩 텐서를 가중치로 사용하고 훈련을 진행한다."
   ]
  },
  {
   "cell_type": "code",
   "execution_count": 12,
   "metadata": {},
   "outputs": [],
   "source": [
    "from tensorflow.keras.models import Sequential\n",
    "from tensorflow.keras.layers import Embedding, Flatten, Dense\n",
    "\n",
    "model = Sequential()\n",
    "model.add(Embedding(max_words, embedding_dim, input_length=maxlen))\n",
    "model.add(Flatten())\n",
    "model.add(Dense(64, activation='relu'))\n",
    "model.add(Dense(64, activation='relu'))\n",
    "model.add(Dense(1, activation='sigmoid'))"
   ]
  },
  {
   "cell_type": "code",
   "execution_count": 13,
   "metadata": {},
   "outputs": [
    {
     "name": "stdout",
     "output_type": "stream",
     "text": [
      "Model: \"sequential_1\"\n",
      "_________________________________________________________________\n",
      " Layer (type)                Output Shape              Param #   \n",
      "=================================================================\n",
      " embedding_2 (Embedding)     (None, 100, 100)          1000000   \n",
      "                                                                 \n",
      " flatten_1 (Flatten)         (None, 10000)             0         \n",
      "                                                                 \n",
      " dense_1 (Dense)             (None, 64)                640064    \n",
      "                                                                 \n",
      " dense_2 (Dense)             (None, 64)                4160      \n",
      "                                                                 \n",
      " dense_3 (Dense)             (None, 1)                 65        \n",
      "                                                                 \n",
      "=================================================================\n",
      "Total params: 1,644,289\n",
      "Trainable params: 644,289\n",
      "Non-trainable params: 1,000,000\n",
      "_________________________________________________________________\n"
     ]
    }
   ],
   "source": [
    "model.layers[0].set_weights([embedding_matrix])\n",
    "model.layers[0].trainable = False\n",
    "model.compile(optimizer='rmsprop', loss='binary_crossentropy', metrics=['acc'])\n",
    "\n",
    "model.summary()"
   ]
  },
  {
   "cell_type": "code",
   "execution_count": 14,
   "metadata": {},
   "outputs": [
    {
     "name": "stdout",
     "output_type": "stream",
     "text": [
      "Epoch 1/10\n",
      "7/7 [==============================] - 2s 276ms/step - loss: 1.0460 - acc: 0.5400 - val_loss: 0.8575 - val_acc: 0.4958\n",
      "Epoch 2/10\n",
      "7/7 [==============================] - 1s 185ms/step - loss: 0.7208 - acc: 0.5450 - val_loss: 0.6767 - val_acc: 0.5761\n",
      "Epoch 3/10\n",
      "7/7 [==============================] - 1s 175ms/step - loss: 0.5540 - acc: 0.7750 - val_loss: 1.0676 - val_acc: 0.4958\n",
      "Epoch 4/10\n",
      "7/7 [==============================] - 1s 169ms/step - loss: 0.5563 - acc: 0.7300 - val_loss: 1.0608 - val_acc: 0.5066\n",
      "Epoch 5/10\n",
      "7/7 [==============================] - 1s 185ms/step - loss: 0.2443 - acc: 0.9450 - val_loss: 0.6990 - val_acc: 0.5765\n",
      "Epoch 6/10\n",
      "7/7 [==============================] - 1s 187ms/step - loss: 0.1507 - acc: 0.9500 - val_loss: 1.1073 - val_acc: 0.5007\n",
      "Epoch 7/10\n",
      "7/7 [==============================] - 1s 228ms/step - loss: 0.2587 - acc: 0.8750 - val_loss: 0.9703 - val_acc: 0.5361\n",
      "Epoch 8/10\n",
      "7/7 [==============================] - 1s 219ms/step - loss: 0.0408 - acc: 1.0000 - val_loss: 0.7412 - val_acc: 0.5882\n",
      "Epoch 9/10\n",
      "7/7 [==============================] - 2s 274ms/step - loss: 0.0171 - acc: 1.0000 - val_loss: 0.7836 - val_acc: 0.5897\n",
      "Epoch 10/10\n",
      "7/7 [==============================] - 2s 280ms/step - loss: 0.0103 - acc: 1.0000 - val_loss: 0.9849 - val_acc: 0.5667\n"
     ]
    }
   ],
   "source": [
    "history = model.fit(x_train, y_train, epochs=10, batch_size=32, validation_data=(x_val, y_val))\n",
    "model.save_weights('pre_trained_glove_model.h5')"
   ]
  },
  {
   "cell_type": "markdown",
   "metadata": {},
   "source": [
    "## 3. 결과 분석\n",
    "- 훈련 샘플 수가 적기 때문에 overfitting이 다소 빠르게 진행되고 검증 정확도와 훈련 정확도 사이의 차이가 크다. 훈련 샘플의 수가 적기 때문에, 어떤 훈련 샘플을 선택하느냐에 따라서 결과 역시 크게 달라질 것이다. "
   ]
  },
  {
   "cell_type": "code",
   "execution_count": 15,
   "metadata": {},
   "outputs": [
    {
     "data": {
      "image/png": "[encoded data removed]",
      "text/plain": [
       "<Figure size 432x288 with 1 Axes>"
      ]
     },
     "metadata": {
      "needs_background": "light"
     },
     "output_type": "display_data"
    }
   ],
   "source": [
    "import matplotlib.pyplot as plt\n",
    "\n",
    "history_dict = history.history\n",
    "loss = history_dict['loss']\n",
    "val_loss = history_dict['val_loss']\n",
    "\n",
    "epochs = range(1, len(loss) + 1)\n",
    "plt.plot(epochs, loss, 'b', label='Training loss')\n",
    "plt.plot(epochs, val_loss, 'r', label='Validation loss')\n",
    "plt.title(\"Training and validation loss\")\n",
    "plt.xlabel('Epochs')\n",
    "plt.ylabel('Loss')\n",
    "plt.legend()\n",
    "\n",
    "plt.show()"
   ]
  },
  {
   "cell_type": "code",
   "execution_count": 16,
   "metadata": {},
   "outputs": [
    {
     "data": {
      "image/png": "[encoded data removed]",
      "text/plain": [
       "<Figure size 432x288 with 1 Axes>"
      ]
     },
     "metadata": {
      "needs_background": "light"
     },
     "output_type": "display_data"
    }
   ],
   "source": [
    "plt.clf()\n",
    "acc = history_dict['acc']\n",
    "val_acc = history_dict['val_acc']\n",
    "\n",
    "plt.plot(epochs, acc, 'b', label='Training acc')\n",
    "plt.plot(epochs, val_acc, 'g', label='Validation acc')\n",
    "plt.title(\"Training and validation accuracy\")\n",
    "plt.xlabel('Epochs')\n",
    "plt.ylabel('Accuracy')\n",
    "plt.legend()\n",
    "\n",
    "plt.show()"
   ]
  },
  {
   "cell_type": "markdown",
   "metadata": {},
   "source": [
    "- 테스트 데이터에서 모델을 평가해본 결과 약 55%의 정확도가 나왔다. 훈련 샘플의 수를 늘리면 더 나은 결과를 얻을 수 있을 듯 하다."
   ]
  },
  {
   "cell_type": "code",
   "execution_count": 17,
   "metadata": {},
   "outputs": [
    {
     "name": "stdout",
     "output_type": "stream",
     "text": [
      "(25000, 100) (25000, 1)\n"
     ]
    }
   ],
   "source": [
    "test_dir = os.path.join(imdb_dir, 'test')\n",
    "\n",
    "labels = []\n",
    "texts = []\n",
    "\n",
    "for label_type in ['neg', 'pos']:\n",
    "    dir_name = os.path.join(test_dir, label_type)\n",
    "    for fname in sorted(os.listdir(dir_name)):\n",
    "        if fname[-4:] == '.txt':\n",
    "            f = open(os.path.join(dir_name, fname), encoding='utf8')\n",
    "            texts.append(f.read())\n",
    "            f.close()\n",
    "            if label_type == 'neg':\n",
    "                labels.append(0)\n",
    "            else:\n",
    "                labels.append(1)\n",
    "sequences = tokenizer.texts_to_sequences(texts)\n",
    "x_test = pad_sequences(sequences, maxlen=maxlen)\n",
    "y_test = np.asarray(labels).reshape((-1,1))\n",
    "print(x_test.shape, y_test.shape)\n"
   ]
  },
  {
   "cell_type": "code",
   "execution_count": 18,
   "metadata": {},
   "outputs": [
    {
     "name": "stdout",
     "output_type": "stream",
     "text": [
      "782/782 [==============================] - 5s 6ms/step - loss: 1.0204 - acc: 0.5566\n"
     ]
    },
    {
     "data": {
      "text/plain": [
       "[1.020403504371643, 0.5565599799156189]"
      ]
     },
     "execution_count": 18,
     "metadata": {},
     "output_type": "execute_result"
    }
   ],
   "source": [
    "model.load_weights('pre_trained_glove_model.h5')\n",
    "model.evaluate(x_test, y_test)"
   ]
  }
 ],
 "metadata": {
  "interpreter": {
   "hash": "b3ba2566441a7c06988d0923437866b63cedc61552a5af99d1f4fb67d367b25f"
  },
  "kernelspec": {
   "display_name": "Python 3.9.7 64-bit ('base': conda)",
   "language": "python",
   "name": "python3"
  },
  "language_info": {
   "codemirror_mode": {
    "name": "ipython",
    "version": 3
   },
   "file_extension": ".py",
   "mimetype": "text/x-python",
   "name": "python",
   "nbconvert_exporter": "python",
   "pygments_lexer": "ipython3",
   "version": "3.9.7"
  },
  "orig_nbformat": 4
 },
 "nbformat": 4,
 "nbformat_minor": 2
}
