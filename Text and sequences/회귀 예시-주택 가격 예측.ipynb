{
 "cells": [
  {
   "cell_type": "markdown",
   "id": "1032ff34",
   "metadata": {},
   "source": [
    "# 주택 가격 예측하기\n",
    "## 1. 데이터 준비하기\n",
    "- Keras에 기본 포함된 1970년 중반 보스턴 외곽 지역의 범죄율, 지방세율과 이에 따른 주택 가격의 데이터를 바탕으로 주택 가격을 예측하는 회귀 모델을 구축해 본다.\n",
    "- 훈련 샘플 404개와 테스트 샘플 104개로 비교적 데이터 포인트의 개수가 적다."
   ]
  },
  {
   "cell_type": "code",
   "execution_count": 20,
   "id": "2799a4e3",
   "metadata": {},
   "outputs": [],
   "source": [
    "from tensorflow.keras.datasets import boston_housing\n",
    "import tensorflow as tf\n",
    "\n",
    "(train_data, train_targets), (test_data, test_targets) = boston_housing.load_data()"
   ]
  },
  {
   "cell_type": "markdown",
   "id": "034dad1d",
   "metadata": {},
   "source": [
    "- 입력 데이터에 있는 각 특성은 스케일이 서로 다르다.\n",
    "- 어떤 값은 0 ~ 1 까지의 비율을 나타내고 어떤 것은 1 과 100 사이의 값을 나타내기도 한다."
   ]
  },
  {
   "cell_type": "code",
   "execution_count": 21,
   "id": "cbc8f6ea",
   "metadata": {},
   "outputs": [
    {
     "data": {
      "text/plain": [
       "array([  1.23247,   0.     ,   8.14   ,   0.     ,   0.538  ,   6.142  ,\n",
       "        91.7    ,   3.9769 ,   4.     , 307.     ,  21.     , 396.9    ,\n",
       "        18.72   ])"
      ]
     },
     "execution_count": 21,
     "metadata": {},
     "output_type": "execute_result"
    }
   ],
   "source": [
    "train_data[0]"
   ]
  },
  {
   "cell_type": "markdown",
   "id": "b47aab60",
   "metadata": {},
   "source": [
    "- 서로 다른 스케일의 특성들은 신경망에서 잘못 해석될 수 있으므로, 정규화를 진행한다.\n",
    "- 훈련 단계에서는 절대로 테스트 데이터의 특성을 반영하면 안 되기 때문에, 훈련 데이터의 특성으로만 정규화를 진행한다."
   ]
  },
  {
   "cell_type": "code",
   "execution_count": 22,
   "id": "fd82d4e7",
   "metadata": {},
   "outputs": [],
   "source": [
    "mean = train_data.mean(axis=0)\n",
    "train_data -= mean\n",
    "std = train_data.std(axis=0)\n",
    "train_data /= std\n",
    "\n",
    "test_data -= mean\n",
    "test_data /= std"
   ]
  },
  {
   "cell_type": "markdown",
   "id": "eba68568",
   "metadata": {},
   "source": [
    "## 2. 모델 생성 및 훈련\n",
    "- 이 모델은 새로운 값을 예측하는 회귀 모델이기 때문에, 여러 겹의 Dense 층 아래 마지막 층은 1개의 파라미터를 갖는다.\n",
    "- 회귀 문제에서 흔하게 사용되는 손실 함수인 mean squared error 를 사용한다.\n",
    "- 데이터 포인트의 수가 적기 때문에 K-겹 교차 검증을 통해 여러번 모델을 훈련시켜 더 균일한 모델을 만들 수 있도록 한다."
   ]
  },
  {
   "cell_type": "code",
   "execution_count": 25,
   "id": "a358f165",
   "metadata": {},
   "outputs": [],
   "source": [
    "from keras import models, layers\n",
    "\n",
    "def build_model():\n",
    "    model = models.Sequential()\n",
    "    model.add(layers.Dense(64, activation='relu', input_shape=(train_data.shape[1],)))\n",
    "    model.add(layers.Dense(64, activation='relu'))\n",
    "    model.add(layers.Dense(1))\n",
    "    model.compile(optimizer='rmsprop', loss='mse', metrics=[tf.keras.metrics.MeanAbsoluteError()])\n",
    "    return model"
   ]
  },
  {
   "cell_type": "code",
   "execution_count": 10,
   "id": "64843e45",
   "metadata": {},
   "outputs": [
    {
     "name": "stdout",
     "output_type": "stream",
     "text": [
      "Processing fold # 0\n",
      "Processing fold # 1\n",
      "Processing fold # 2\n",
      "Processing fold # 3\n"
     ]
    }
   ],
   "source": [
    "import numpy as np\n",
    "\n",
    "k = 4\n",
    "num_val_samples = len(train_data) // k\n",
    "num_epochs = 20\n",
    "all_scores = []\n",
    "\n",
    "for i in range(k):\n",
    "    print('Processing fold #', i)\n",
    "    val_data = train_data[i * num_val_samples : (i+1)*num_val_samples]\n",
    "    val_targets = train_targets[i * num_val_samples : (i+1)*num_val_samples]\n",
    "    \n",
    "    partial_train_data = np.concatenate(\n",
    "    [train_data[:i*num_val_samples],\n",
    "    train_data[(i+1)*num_val_samples:]],\n",
    "    axis=0)\n",
    "    partial_train_targets = np.concatenate(\n",
    "    [train_targets[:i*num_val_samples],\n",
    "    train_targets[(i+1)*num_val_samples:]],\n",
    "    axis=0)\n",
    "    \n",
    "    model = build_model()\n",
    "    model.fit(partial_train_data, partial_train_targets, epochs=num_epochs, batch_size=1, verbose=0)\n",
    "    val_mse, val_mae = model.evaluate(val_data, val_targets, verbose=0)\n",
    "    all_scores.append(val_mae)"
   ]
  },
  {
   "cell_type": "code",
   "execution_count": 29,
   "id": "42a37dc5",
   "metadata": {},
   "outputs": [
    {
     "name": "stdout",
     "output_type": "stream",
     "text": [
      "[2.0478169918060303, 2.716521978378296, 2.604544162750244, 2.552786111831665]\n",
      "2.480417311191559\n"
     ]
    }
   ],
   "source": [
    "print(all_scores)\n",
    "print(np.mean(all_scores))"
   ]
  },
  {
   "cell_type": "markdown",
   "id": "0568f666",
   "metadata": {},
   "source": [
    "- 데이터가 적기 때문에 K개의 검증 세트의 정확도가 꽤 많이 나게 되므로 평균값을 구한다.\n",
    "- 주택 가격 데이터의 단위는 천 달러이므로 검증 데이터에 대해 평균적으로 2,500 달러라는 적지 않은 차이가 나게 된다.\n",
    "- 각 세트의 검증 정확도를 확인하기 위해 검증 정확도를 기록하도록 하여 다시 훈련시킨다."
   ]
  },
  {
   "cell_type": "code",
   "execution_count": 39,
   "id": "71930299",
   "metadata": {},
   "outputs": [
    {
     "name": "stdout",
     "output_type": "stream",
     "text": [
      "Processing fold # 0\n",
      "Processing fold # 1\n",
      "Processing fold # 2\n",
      "Processing fold # 3\n"
     ]
    }
   ],
   "source": [
    "num_epochs = 500\n",
    "all_mae_histories = []\n",
    "\n",
    "for i in range(k):\n",
    "    print('Processing fold #', i)\n",
    "    val_data = train_data[i * num_val_samples : (i+1)*num_val_samples]\n",
    "    val_targets = train_targets[i * num_val_samples : (i+1)*num_val_samples]\n",
    "    \n",
    "    partial_train_data = np.concatenate(\n",
    "    [train_data[:i*num_val_samples],\n",
    "    train_data[(i+1)*num_val_samples:]],\n",
    "    axis=0)\n",
    "    partial_train_targets = np.concatenate(\n",
    "    [train_targets[:i*num_val_samples],\n",
    "    train_targets[(i+1)*num_val_samples:]],\n",
    "    axis=0)\n",
    "    \n",
    "    model = build_model()\n",
    "    history = model.fit(partial_train_data, partial_train_targets,\n",
    "                        validation_data=(val_data, val_targets),\n",
    "                        epochs=num_epochs, batch_size=1, verbose=0)\n",
    "    mae_history = history.history['val_mean_absolute_error']\n",
    "    all_mae_histories.append(mae_history)"
   ]
  },
  {
   "cell_type": "code",
   "execution_count": 41,
   "id": "2758fb0c",
   "metadata": {},
   "outputs": [],
   "source": [
    "average_mae_history = [np.mean([x[i] for x in all_mae_histories]) for i in range(num_epochs)]"
   ]
  },
  {
   "cell_type": "markdown",
   "id": "f2531f6f",
   "metadata": {},
   "source": [
    "- 훈련 과정에서 얻은 각 세트별 검증 정확도의 평균을 구하여 epoch당 어떻게 변화하는지 살펴보자."
   ]
  },
  {
   "cell_type": "code",
   "execution_count": 43,
   "id": "2d3899b9",
   "metadata": {},
   "outputs": [
    {
     "data": {
      "image/png": "[encoded data removed]",
      "text/plain": [
       "<Figure size 432x288 with 1 Axes>"
      ]
     },
     "metadata": {
      "needs_background": "light"
     },
     "output_type": "display_data"
    }
   ],
   "source": [
    "import matplotlib.pyplot as plt\n",
    "\n",
    "plt.plot(range(1, len(average_mae_history) + 1), average_mae_history, 'r')\n",
    "plt.xlabel('Epochs')\n",
    "plt.ylabel('Validation MAE')\n",
    "plt.show()"
   ]
  },
  {
   "cell_type": "markdown",
   "id": "66f3c7d3",
   "metadata": {},
   "source": [
    "- 데이터의 범위가 매우 크고 변동이 심해서 보기 어려우므로 첫 부분의 데이터를 없애고 지수 이동 평균을 활용하여 곡선을 더 부드럽게 만든다."
   ]
  },
  {
   "cell_type": "code",
   "execution_count": 55,
   "id": "7c3742f7",
   "metadata": {},
   "outputs": [
    {
     "data": {
      "image/png": "[encoded data removed]",
      "text/plain": [
       "<Figure size 432x288 with 1 Axes>"
      ]
     },
     "metadata": {
      "needs_background": "light"
     },
     "output_type": "display_data"
    }
   ],
   "source": [
    "def smooth_curve(points, factor=0.9):\n",
    "    smoothed_points = []\n",
    "    for point in points:\n",
    "        if smoothed_points:\n",
    "            previous = smoothed_points[-1]\n",
    "            smoothed_points.append(previous * factor + point * (1 - factor))\n",
    "        else:\n",
    "            smoothed_points.append(point)\n",
    "    return smoothed_points\n",
    "\n",
    "smoothed_mae_history = smooth_curve(average_mae_history[10:200])\n",
    "\n",
    "plt.clf()\n",
    "plt.plot(range(1, len(smoothed_mae_history) + 1), smoothed_mae_history, 'g')\n",
    "plt.xlabel('Epochs')\n",
    "plt.ylabel('Validation MAE')\n",
    "plt.show() "
   ]
  },
  {
   "cell_type": "markdown",
   "id": "906f9176",
   "metadata": {},
   "source": [
    "- 그래프를 보면 약 80번째 epoch 이후에는 검증 정확도가 감소하지 않고 오히려 증가하는 경향이 보인다.\n",
    "- Overfitting을 막기 위해 epoch 횟수를 재조정하고 다시 훈련시킨 후 테스트 데이터로 모델의 정확도를 확인한다."
   ]
  },
  {
   "cell_type": "code",
   "execution_count": 56,
   "id": "1429ea6b",
   "metadata": {},
   "outputs": [
    {
     "name": "stdout",
     "output_type": "stream",
     "text": [
      "Epoch 1/80\n",
      "26/26 - 1s - loss: 477.9825 - mean_absolute_error: 19.8793 - 514ms/epoch - 20ms/step\n",
      "Epoch 2/80\n",
      "26/26 - 0s - loss: 280.7557 - mean_absolute_error: 14.6647 - 122ms/epoch - 5ms/step\n",
      "Epoch 3/80\n",
      "26/26 - 0s - loss: 117.4607 - mean_absolute_error: 8.5484 - 121ms/epoch - 5ms/step\n",
      "Epoch 4/80\n",
      "26/26 - 0s - loss: 53.8014 - mean_absolute_error: 5.4498 - 121ms/epoch - 5ms/step\n",
      "Epoch 5/80\n",
      "26/26 - 0s - loss: 35.9917 - mean_absolute_error: 4.2803 - 137ms/epoch - 5ms/step\n",
      "Epoch 6/80\n",
      "26/26 - 0s - loss: 28.6128 - mean_absolute_error: 3.7923 - 150ms/epoch - 6ms/step\n",
      "Epoch 7/80\n",
      "26/26 - 0s - loss: 24.7160 - mean_absolute_error: 3.4878 - 117ms/epoch - 4ms/step\n",
      "Epoch 8/80\n",
      "26/26 - 0s - loss: 21.5944 - mean_absolute_error: 3.2714 - 126ms/epoch - 5ms/step\n",
      "Epoch 9/80\n",
      "26/26 - 0s - loss: 18.9377 - mean_absolute_error: 3.0184 - 128ms/epoch - 5ms/step\n",
      "Epoch 10/80\n",
      "26/26 - 0s - loss: 16.6590 - mean_absolute_error: 2.8351 - 121ms/epoch - 5ms/step\n",
      "Epoch 11/80\n",
      "26/26 - 0s - loss: 14.9715 - mean_absolute_error: 2.6682 - 112ms/epoch - 4ms/step\n",
      "Epoch 12/80\n",
      "26/26 - 0s - loss: 14.0017 - mean_absolute_error: 2.5999 - 115ms/epoch - 4ms/step\n",
      "Epoch 13/80\n",
      "26/26 - 0s - loss: 12.9588 - mean_absolute_error: 2.4911 - 121ms/epoch - 5ms/step\n",
      "Epoch 14/80\n",
      "26/26 - 0s - loss: 12.1127 - mean_absolute_error: 2.3741 - 127ms/epoch - 5ms/step\n",
      "Epoch 15/80\n",
      "26/26 - 0s - loss: 11.7185 - mean_absolute_error: 2.3701 - 118ms/epoch - 5ms/step\n",
      "Epoch 16/80\n",
      "26/26 - 0s - loss: 11.2656 - mean_absolute_error: 2.3410 - 117ms/epoch - 4ms/step\n",
      "Epoch 17/80\n",
      "26/26 - 0s - loss: 10.7776 - mean_absolute_error: 2.2962 - 125ms/epoch - 5ms/step\n",
      "Epoch 18/80\n",
      "26/26 - 0s - loss: 10.3412 - mean_absolute_error: 2.2622 - 118ms/epoch - 5ms/step\n",
      "Epoch 19/80\n",
      "26/26 - 0s - loss: 10.4064 - mean_absolute_error: 2.2348 - 119ms/epoch - 5ms/step\n",
      "Epoch 20/80\n",
      "26/26 - 0s - loss: 10.0241 - mean_absolute_error: 2.2352 - 133ms/epoch - 5ms/step\n",
      "Epoch 21/80\n",
      "26/26 - 0s - loss: 9.7572 - mean_absolute_error: 2.1727 - 127ms/epoch - 5ms/step\n",
      "Epoch 22/80\n",
      "26/26 - 0s - loss: 9.5167 - mean_absolute_error: 2.1694 - 116ms/epoch - 4ms/step\n",
      "Epoch 23/80\n",
      "26/26 - 0s - loss: 9.4235 - mean_absolute_error: 2.1366 - 115ms/epoch - 4ms/step\n",
      "Epoch 24/80\n",
      "26/26 - 0s - loss: 9.1882 - mean_absolute_error: 2.1210 - 129ms/epoch - 5ms/step\n",
      "Epoch 25/80\n",
      "26/26 - 0s - loss: 9.0497 - mean_absolute_error: 2.0991 - 119ms/epoch - 5ms/step\n",
      "Epoch 26/80\n",
      "26/26 - 0s - loss: 9.0214 - mean_absolute_error: 2.0721 - 127ms/epoch - 5ms/step\n",
      "Epoch 27/80\n",
      "26/26 - 0s - loss: 8.7458 - mean_absolute_error: 2.1055 - 119ms/epoch - 5ms/step\n",
      "Epoch 28/80\n",
      "26/26 - 0s - loss: 9.0574 - mean_absolute_error: 2.0547 - 114ms/epoch - 4ms/step\n",
      "Epoch 29/80\n",
      "26/26 - 0s - loss: 8.6965 - mean_absolute_error: 2.0448 - 114ms/epoch - 4ms/step\n",
      "Epoch 30/80\n",
      "26/26 - 0s - loss: 8.6128 - mean_absolute_error: 2.0570 - 121ms/epoch - 5ms/step\n",
      "Epoch 31/80\n",
      "26/26 - 0s - loss: 8.3786 - mean_absolute_error: 2.0237 - 126ms/epoch - 5ms/step\n",
      "Epoch 32/80\n",
      "26/26 - 0s - loss: 8.3419 - mean_absolute_error: 2.0079 - 114ms/epoch - 4ms/step\n",
      "Epoch 33/80\n",
      "26/26 - 0s - loss: 8.2873 - mean_absolute_error: 1.9949 - 117ms/epoch - 4ms/step\n",
      "Epoch 34/80\n",
      "26/26 - 0s - loss: 8.0986 - mean_absolute_error: 1.9869 - 121ms/epoch - 5ms/step\n",
      "Epoch 35/80\n",
      "26/26 - 0s - loss: 8.1886 - mean_absolute_error: 1.9843 - 128ms/epoch - 5ms/step\n",
      "Epoch 36/80\n",
      "26/26 - 0s - loss: 7.9528 - mean_absolute_error: 1.9699 - 146ms/epoch - 6ms/step\n",
      "Epoch 37/80\n",
      "26/26 - 0s - loss: 8.0471 - mean_absolute_error: 1.9712 - 112ms/epoch - 4ms/step\n",
      "Epoch 38/80\n",
      "26/26 - 0s - loss: 7.8239 - mean_absolute_error: 1.9351 - 118ms/epoch - 5ms/step\n",
      "Epoch 39/80\n",
      "26/26 - 0s - loss: 7.7253 - mean_absolute_error: 1.9409 - 118ms/epoch - 5ms/step\n",
      "Epoch 40/80\n",
      "26/26 - 0s - loss: 7.6201 - mean_absolute_error: 1.9148 - 115ms/epoch - 4ms/step\n",
      "Epoch 41/80\n",
      "26/26 - 0s - loss: 7.6289 - mean_absolute_error: 1.9125 - 117ms/epoch - 4ms/step\n",
      "Epoch 42/80\n",
      "26/26 - 0s - loss: 7.8349 - mean_absolute_error: 1.9505 - 121ms/epoch - 5ms/step\n",
      "Epoch 43/80\n",
      "26/26 - 0s - loss: 7.3929 - mean_absolute_error: 1.8871 - 120ms/epoch - 5ms/step\n",
      "Epoch 44/80\n",
      "26/26 - 0s - loss: 7.5709 - mean_absolute_error: 1.9241 - 126ms/epoch - 5ms/step\n",
      "Epoch 45/80\n",
      "26/26 - 0s - loss: 7.2700 - mean_absolute_error: 1.9149 - 126ms/epoch - 5ms/step\n",
      "Epoch 46/80\n",
      "26/26 - 0s - loss: 7.1825 - mean_absolute_error: 1.8915 - 124ms/epoch - 5ms/step\n",
      "Epoch 47/80\n",
      "26/26 - 0s - loss: 7.3464 - mean_absolute_error: 1.9064 - 120ms/epoch - 5ms/step\n",
      "Epoch 48/80\n",
      "26/26 - 0s - loss: 7.1880 - mean_absolute_error: 1.8367 - 109ms/epoch - 4ms/step\n",
      "Epoch 49/80\n",
      "26/26 - 0s - loss: 7.1798 - mean_absolute_error: 1.8586 - 120ms/epoch - 5ms/step\n",
      "Epoch 50/80\n",
      "26/26 - 0s - loss: 7.0433 - mean_absolute_error: 1.8557 - 121ms/epoch - 5ms/step\n",
      "Epoch 51/80\n",
      "26/26 - 0s - loss: 7.1337 - mean_absolute_error: 1.8627 - 119ms/epoch - 5ms/step\n",
      "Epoch 52/80\n",
      "26/26 - 0s - loss: 6.9472 - mean_absolute_error: 1.8631 - 120ms/epoch - 5ms/step\n",
      "Epoch 53/80\n",
      "26/26 - 0s - loss: 6.8833 - mean_absolute_error: 1.8353 - 134ms/epoch - 5ms/step\n",
      "Epoch 54/80\n",
      "26/26 - 0s - loss: 6.8136 - mean_absolute_error: 1.8345 - 117ms/epoch - 4ms/step\n",
      "Epoch 55/80\n",
      "26/26 - 0s - loss: 6.8722 - mean_absolute_error: 1.8423 - 115ms/epoch - 4ms/step\n",
      "Epoch 56/80\n",
      "26/26 - 0s - loss: 6.8254 - mean_absolute_error: 1.7966 - 121ms/epoch - 5ms/step\n",
      "Epoch 57/80\n",
      "26/26 - 0s - loss: 6.5945 - mean_absolute_error: 1.8117 - 115ms/epoch - 4ms/step\n",
      "Epoch 58/80\n",
      "26/26 - 0s - loss: 6.5815 - mean_absolute_error: 1.7929 - 116ms/epoch - 4ms/step\n",
      "Epoch 59/80\n",
      "26/26 - 0s - loss: 6.6547 - mean_absolute_error: 1.7954 - 117ms/epoch - 4ms/step\n",
      "Epoch 60/80\n",
      "26/26 - 0s - loss: 6.5966 - mean_absolute_error: 1.7982 - 114ms/epoch - 4ms/step\n",
      "Epoch 61/80\n",
      "26/26 - 0s - loss: 6.5672 - mean_absolute_error: 1.7926 - 122ms/epoch - 5ms/step\n",
      "Epoch 62/80\n",
      "26/26 - 0s - loss: 6.3785 - mean_absolute_error: 1.7592 - 119ms/epoch - 5ms/step\n",
      "Epoch 63/80\n",
      "26/26 - 0s - loss: 6.5792 - mean_absolute_error: 1.7972 - 114ms/epoch - 4ms/step\n",
      "Epoch 64/80\n",
      "26/26 - 0s - loss: 6.4807 - mean_absolute_error: 1.7791 - 118ms/epoch - 5ms/step\n",
      "Epoch 65/80\n",
      "26/26 - 0s - loss: 6.3145 - mean_absolute_error: 1.7695 - 119ms/epoch - 5ms/step\n",
      "Epoch 66/80\n",
      "26/26 - 0s - loss: 6.1460 - mean_absolute_error: 1.7184 - 119ms/epoch - 5ms/step\n",
      "Epoch 67/80\n",
      "26/26 - 0s - loss: 6.2551 - mean_absolute_error: 1.7561 - 130ms/epoch - 5ms/step\n",
      "Epoch 68/80\n",
      "26/26 - 0s - loss: 6.1345 - mean_absolute_error: 1.7535 - 116ms/epoch - 4ms/step\n",
      "Epoch 69/80\n",
      "26/26 - 0s - loss: 6.1760 - mean_absolute_error: 1.7424 - 115ms/epoch - 4ms/step\n",
      "Epoch 70/80\n",
      "26/26 - 0s - loss: 5.8978 - mean_absolute_error: 1.7171 - 128ms/epoch - 5ms/step\n",
      "Epoch 71/80\n",
      "26/26 - 0s - loss: 6.2484 - mean_absolute_error: 1.7474 - 133ms/epoch - 5ms/step\n",
      "Epoch 72/80\n",
      "26/26 - 0s - loss: 6.0041 - mean_absolute_error: 1.7180 - 112ms/epoch - 4ms/step\n",
      "Epoch 73/80\n",
      "26/26 - 0s - loss: 6.0411 - mean_absolute_error: 1.7301 - 126ms/epoch - 5ms/step\n",
      "Epoch 74/80\n",
      "26/26 - 0s - loss: 5.8975 - mean_absolute_error: 1.7072 - 127ms/epoch - 5ms/step\n",
      "Epoch 75/80\n",
      "26/26 - 0s - loss: 6.0002 - mean_absolute_error: 1.7330 - 117ms/epoch - 4ms/step\n",
      "Epoch 76/80\n",
      "26/26 - 0s - loss: 5.9071 - mean_absolute_error: 1.6866 - 113ms/epoch - 4ms/step\n",
      "Epoch 77/80\n",
      "26/26 - 0s - loss: 5.8295 - mean_absolute_error: 1.7143 - 121ms/epoch - 5ms/step\n",
      "Epoch 78/80\n",
      "26/26 - 0s - loss: 5.9144 - mean_absolute_error: 1.6819 - 118ms/epoch - 5ms/step\n",
      "Epoch 79/80\n",
      "26/26 - 0s - loss: 5.6971 - mean_absolute_error: 1.6854 - 120ms/epoch - 5ms/step\n",
      "Epoch 80/80\n",
      "26/26 - 0s - loss: 5.8666 - mean_absolute_error: 1.7036 - 118ms/epoch - 5ms/step\n",
      "4/4 [==============================] - 0s 4ms/step - loss: 17.3492 - mean_absolute_error: 2.6048\n"
     ]
    }
   ],
   "source": [
    "model = build_model()\n",
    "model.fit(train_data, train_targets, epochs=80, batch_size=16, verbose=2)\n",
    "test_mse_score, test_mae_score = model.evaluate(test_data, test_targets)"
   ]
  },
  {
   "cell_type": "code",
   "execution_count": 58,
   "id": "f6a5abea",
   "metadata": {},
   "outputs": [
    {
     "name": "stdout",
     "output_type": "stream",
     "text": [
      "mse: 17.3492374420166 mae: 2.604771137237549\n"
     ]
    }
   ],
   "source": [
    "print(\"mse:\", test_mse_score, \"mae:\", test_mae_score)"
   ]
  }
 ],
 "metadata": {
  "kernelspec": {
   "display_name": "Python 3 (ipykernel)",
   "language": "python",
   "name": "python3"
  },
  "language_info": {
   "codemirror_mode": {
    "name": "ipython",
    "version": 3
   },
   "file_extension": ".py",
   "mimetype": "text/x-python",
   "name": "python",
   "nbconvert_exporter": "python",
   "pygments_lexer": "ipython3",
   "version": "3.9.7"
  }
 },
 "nbformat": 4,
 "nbformat_minor": 5
}
