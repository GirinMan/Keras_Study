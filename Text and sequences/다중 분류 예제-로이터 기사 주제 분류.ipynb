{
 "cells": [
  {
   "cell_type": "markdown",
   "id": "0493a96a",
   "metadata": {},
   "source": [
    "# 로이터 기사 주제 분류하기\n",
    "## 1. 데이터 준비하기\n",
    "- Keras에 기본 포함된 로이터 데이터셋을 46개의 토픽으로 분류하는 신경망을 만든다.\n",
    "- 각 데이터는 IMDB 데이터와 마찬가지로 단어와 매치되는 인덱스들의 리스트로 구성되어 있다."
   ]
  },
  {
   "cell_type": "code",
   "execution_count": 1,
   "id": "5517d795",
   "metadata": {},
   "outputs": [],
   "source": [
    "from keras.datasets import reuters\n",
    "\n",
    "(train_data, train_labels), (test_data, test_labels) = reuters.load_data(num_words=10000)"
   ]
  },
  {
   "cell_type": "markdown",
   "id": "82eb0cab",
   "metadata": {},
   "source": [
    "- 데이터가 어떻게 구성되어 있는지 확인하기 위해서 원본 텍스트로 디코딩해 본다.\n",
    "- decode 과정에서 0, 1, 2는 각각 '패딩', '문서 시작', '사전에 없음'을 나타내는 인덱스이므로 3을 뺀다"
   ]
  },
  {
   "cell_type": "code",
   "execution_count": 2,
   "id": "f8bcb896",
   "metadata": {},
   "outputs": [],
   "source": [
    "word_index = reuters.get_word_index()\n",
    "reverse_word_index = dict([(value, key) for (key, value) in word_index.items()])\n",
    "decoded_newswire = ' '.join([reverse_word_index.get(i - 3, '?') for i in train_data[0]])"
   ]
  },
  {
   "cell_type": "code",
   "execution_count": 3,
   "id": "b39f021d",
   "metadata": {},
   "outputs": [
    {
     "data": {
      "text/plain": [
       "'? ? ? said as a result of its december acquisition of space co it expects earnings per share in 1987 of 1 15 to 1 30 dlrs per share up from 70 cts in 1986 the company said pretax net should rise to nine to 10 mln dlrs from six mln dlrs in 1986 and rental operation revenues to 19 to 22 mln dlrs from 12 5 mln dlrs it said cash flow per share this year should be 2 50 to three dlrs reuter 3'"
      ]
     },
     "execution_count": 3,
     "metadata": {},
     "output_type": "execute_result"
    }
   ],
   "source": [
    "decoded_newswire"
   ]
  },
  {
   "cell_type": "markdown",
   "id": "990f91e6",
   "metadata": {},
   "source": [
    "- IMDB 데이터와 같은 방식으로 데이터를 벡터 형태로 변환한다."
   ]
  },
  {
   "cell_type": "code",
   "execution_count": 4,
   "id": "a7004fe9",
   "metadata": {},
   "outputs": [],
   "source": [
    "import numpy as np\n",
    "    \n",
    "def vectorize_sequences(sequences, dimension=10000):\n",
    "    results = np.zeros((len(sequences), dimension))\n",
    "    for i, sequence in enumerate(sequences):\n",
    "        results[i, sequence] = 1.\n",
    "    return results\n",
    "\n",
    "x_train = vectorize_sequences(train_data)\n",
    "x_test = vectorize_sequences(test_data)"
   ]
  },
  {
   "cell_type": "markdown",
   "id": "5477a334",
   "metadata": {},
   "source": [
    "- Label 데이터는 one-hot 방식으로 변형하는데, keras에 내장되어 있는 to_categorical 함수를 활용해도 결과는 동일하다."
   ]
  },
  {
   "cell_type": "code",
   "execution_count": 5,
   "id": "5fca0a67",
   "metadata": {},
   "outputs": [],
   "source": [
    "def to_one_hot(labels, dimension=46):\n",
    "    results = np.zeros((len(labels), dimension))\n",
    "    for i, label in enumerate(labels):\n",
    "        results[i, label] = 1.\n",
    "    return results\n",
    "\n",
    "one_hot_train_labels = to_one_hot(train_labels)\n",
    "one_hot_test_labels = to_one_hot(test_labels)"
   ]
  },
  {
   "cell_type": "code",
   "execution_count": 6,
   "id": "62a0ba52",
   "metadata": {},
   "outputs": [],
   "source": [
    "from keras.utils.np_utils import to_categorical\n",
    "\n",
    "one_hot_train_labels = to_categorical(train_labels)\n",
    "one_hot_test_labels = to_categorical(test_labels)"
   ]
  },
  {
   "cell_type": "markdown",
   "id": "cfc4c95f",
   "metadata": {},
   "source": [
    "## 2. 신경망 모델 구성 및 학습\n",
    "- IMDB 데이터 분류와 유사하게 relu 활성화 함수를 이용한 Dense 층들을 쌓아 모델을 구성한다.\n",
    "- 46개의 토픽에 대한 확률분표를 표현하기 위해 각 층에 더 많은 파라미터와 마지막 층에 softmax 활성화 함수를 사용했다.\n",
    "- 다중 분류 문제이므로 손실 함수로 categorical crossentropy 를 사용한다."
   ]
  },
  {
   "cell_type": "code",
   "execution_count": 7,
   "id": "7f7bb425",
   "metadata": {},
   "outputs": [],
   "source": [
    "from keras import models, layers\n",
    "\n",
    "model = models.Sequential()\n",
    "model.add(layers.Dense(64, activation='relu', input_shape=(10000,)))\n",
    "model.add(layers.Dense(64, activation='relu'))\n",
    "model.add(layers.Dense(46, activation='softmax'))"
   ]
  },
  {
   "cell_type": "code",
   "execution_count": 8,
   "id": "40d91f23",
   "metadata": {},
   "outputs": [],
   "source": [
    "model.compile(optimizer='rmsprop',\n",
    "             loss='categorical_crossentropy',\n",
    "             metrics=['accuracy'])"
   ]
  },
  {
   "cell_type": "code",
   "execution_count": 9,
   "id": "f8e507c5",
   "metadata": {},
   "outputs": [],
   "source": [
    "x_val = x_train[:1000]\n",
    "partial_x_train = x_train[1000:]\n",
    "\n",
    "y_val = one_hot_train_labels[:1000]\n",
    "partial_y_train = one_hot_train_labels[1000:]"
   ]
  },
  {
   "cell_type": "code",
   "execution_count": 10,
   "id": "2e682719",
   "metadata": {},
   "outputs": [
    {
     "name": "stdout",
     "output_type": "stream",
     "text": [
      "Epoch 1/20\n",
      "16/16 [==============================] - 1s 29ms/step - loss: 2.5531 - accuracy: 0.5466 - val_loss: 1.7032 - val_accuracy: 0.6390\n",
      "Epoch 2/20\n",
      "16/16 [==============================] - 0s 18ms/step - loss: 1.3895 - accuracy: 0.7194 - val_loss: 1.3012 - val_accuracy: 0.7360\n",
      "Epoch 3/20\n",
      "16/16 [==============================] - 0s 16ms/step - loss: 1.0496 - accuracy: 0.7789 - val_loss: 1.1434 - val_accuracy: 0.7570\n",
      "Epoch 4/20\n",
      "16/16 [==============================] - 0s 17ms/step - loss: 0.8329 - accuracy: 0.8227 - val_loss: 1.0861 - val_accuracy: 0.7490\n",
      "Epoch 5/20\n",
      "16/16 [==============================] - 0s 17ms/step - loss: 0.6667 - accuracy: 0.8566 - val_loss: 1.0029 - val_accuracy: 0.7820\n",
      "Epoch 6/20\n",
      "16/16 [==============================] - 0s 17ms/step - loss: 0.5339 - accuracy: 0.8875 - val_loss: 0.9516 - val_accuracy: 0.8110\n",
      "Epoch 7/20\n",
      "16/16 [==============================] - 0s 18ms/step - loss: 0.4338 - accuracy: 0.9088 - val_loss: 0.9243 - val_accuracy: 0.8090\n",
      "Epoch 8/20\n",
      "16/16 [==============================] - 0s 17ms/step - loss: 0.3489 - accuracy: 0.9256 - val_loss: 0.9109 - val_accuracy: 0.8140\n",
      "Epoch 9/20\n",
      "16/16 [==============================] - 0s 16ms/step - loss: 0.2872 - accuracy: 0.9362 - val_loss: 0.9168 - val_accuracy: 0.8210\n",
      "Epoch 10/20\n",
      "16/16 [==============================] - 0s 16ms/step - loss: 0.2417 - accuracy: 0.9449 - val_loss: 0.9328 - val_accuracy: 0.8150\n",
      "Epoch 11/20\n",
      "16/16 [==============================] - 0s 17ms/step - loss: 0.2100 - accuracy: 0.9483 - val_loss: 0.9342 - val_accuracy: 0.8180\n",
      "Epoch 12/20\n",
      "16/16 [==============================] - 0s 15ms/step - loss: 0.1837 - accuracy: 0.9520 - val_loss: 0.9609 - val_accuracy: 0.8230\n",
      "Epoch 13/20\n",
      "16/16 [==============================] - 0s 17ms/step - loss: 0.1657 - accuracy: 0.9535 - val_loss: 1.0134 - val_accuracy: 0.7980\n",
      "Epoch 14/20\n",
      "16/16 [==============================] - 0s 17ms/step - loss: 0.1501 - accuracy: 0.9563 - val_loss: 0.9743 - val_accuracy: 0.8160\n",
      "Epoch 15/20\n",
      "16/16 [==============================] - 0s 18ms/step - loss: 0.1449 - accuracy: 0.9555 - val_loss: 1.0421 - val_accuracy: 0.8070\n",
      "Epoch 16/20\n",
      "16/16 [==============================] - 0s 16ms/step - loss: 0.1291 - accuracy: 0.9578 - val_loss: 1.0519 - val_accuracy: 0.8050\n",
      "Epoch 17/20\n",
      "16/16 [==============================] - 0s 18ms/step - loss: 0.1202 - accuracy: 0.9570 - val_loss: 1.0761 - val_accuracy: 0.8050\n",
      "Epoch 18/20\n",
      "16/16 [==============================] - 0s 16ms/step - loss: 0.1187 - accuracy: 0.9564 - val_loss: 1.0649 - val_accuracy: 0.8080\n",
      "Epoch 19/20\n",
      "16/16 [==============================] - 0s 15ms/step - loss: 0.1170 - accuracy: 0.9559 - val_loss: 1.1102 - val_accuracy: 0.8000\n",
      "Epoch 20/20\n",
      "16/16 [==============================] - 0s 16ms/step - loss: 0.1117 - accuracy: 0.9574 - val_loss: 1.1145 - val_accuracy: 0.8020\n"
     ]
    }
   ],
   "source": [
    "history = model.fit(partial_x_train,\n",
    "                   partial_y_train,\n",
    "                   epochs=20,\n",
    "                   batch_size=512,\n",
    "                   validation_data=(x_val, y_val))"
   ]
  },
  {
   "cell_type": "code",
   "execution_count": 11,
   "id": "62369f7a",
   "metadata": {},
   "outputs": [
    {
     "data": {
      "image/png": "[encoded data removed]",
      "text/plain": [
       "<Figure size 432x288 with 1 Axes>"
      ]
     },
     "metadata": {
      "needs_background": "light"
     },
     "output_type": "display_data"
    }
   ],
   "source": [
    "import matplotlib.pyplot as plt\n",
    "\n",
    "loss = history.history['loss']\n",
    "val_loss = history.history['val_loss']\n",
    "\n",
    "epochs = range(1, len(loss) + 1)\n",
    "\n",
    "plt.plot(epochs, loss, 'bo', label='Training loss')\n",
    "plt.plot(epochs, val_loss, 'b', label='Validation loss')\n",
    "plt.title('Training and validation loss')\n",
    "plt.xlabel('Epochs')\n",
    "plt.ylabel('Loss')\n",
    "plt.legend()\n",
    "\n",
    "plt.show()"
   ]
  },
  {
   "cell_type": "code",
   "execution_count": 12,
   "id": "46f61237",
   "metadata": {},
   "outputs": [
    {
     "data": {
      "image/png": "[encoded data removed]",
      "text/plain": [
       "<Figure size 432x288 with 1 Axes>"
      ]
     },
     "metadata": {
      "needs_background": "light"
     },
     "output_type": "display_data"
    }
   ],
   "source": [
    "plt.clf()\n",
    "\n",
    "acc = history.history['accuracy']\n",
    "val_acc = history.history['val_accuracy']\n",
    "\n",
    "plt.plot(epochs, acc, 'bo', label='Training acc')\n",
    "plt.plot(epochs, val_acc, 'b', label='Validation acc')\n",
    "plt.title('Training and validation accuracy')\n",
    "plt.xlabel('Epochs')\n",
    "plt.ylabel('Accuracy')\n",
    "plt.legend()\n",
    "\n",
    "plt.show()"
   ]
  },
  {
   "cell_type": "markdown",
   "id": "2a90e3f8",
   "metadata": {},
   "source": [
    "- 학습 결과 약 9번째 epoch부터 더 이상 validation accuarcy 와 loss 의 향상이 일어나지 않는다.\n",
    "- overfitting 을 제한하기 위해 epoch 횟수를 9로 낮춰 다시 학습을 진행한다."
   ]
  },
  {
   "cell_type": "code",
   "execution_count": 13,
   "id": "79a5bf44",
   "metadata": {},
   "outputs": [
    {
     "name": "stdout",
     "output_type": "stream",
     "text": [
      "Epoch 1/9\n",
      "16/16 [==============================] - 1s 35ms/step - loss: 2.6726 - accuracy: 0.5322 - val_loss: 1.7498 - val_accuracy: 0.6290\n",
      "Epoch 2/9\n",
      "16/16 [==============================] - 0s 17ms/step - loss: 1.4409 - accuracy: 0.7043 - val_loss: 1.3336 - val_accuracy: 0.7090\n",
      "Epoch 3/9\n",
      "16/16 [==============================] - 0s 18ms/step - loss: 1.0811 - accuracy: 0.7695 - val_loss: 1.1544 - val_accuracy: 0.7560\n",
      "Epoch 4/9\n",
      "16/16 [==============================] - 0s 17ms/step - loss: 0.8588 - accuracy: 0.8177 - val_loss: 1.0748 - val_accuracy: 0.7660\n",
      "Epoch 5/9\n",
      "16/16 [==============================] - 0s 18ms/step - loss: 0.6841 - accuracy: 0.8550 - val_loss: 0.9815 - val_accuracy: 0.7990\n",
      "Epoch 6/9\n",
      "16/16 [==============================] - 0s 17ms/step - loss: 0.5439 - accuracy: 0.8887 - val_loss: 0.9311 - val_accuracy: 0.8100\n",
      "Epoch 7/9\n",
      "16/16 [==============================] - 0s 17ms/step - loss: 0.4313 - accuracy: 0.9123 - val_loss: 0.9018 - val_accuracy: 0.8130\n",
      "Epoch 8/9\n",
      "16/16 [==============================] - 0s 17ms/step - loss: 0.3473 - accuracy: 0.9301 - val_loss: 0.9080 - val_accuracy: 0.8090\n",
      "Epoch 9/9\n",
      "16/16 [==============================] - 0s 16ms/step - loss: 0.2840 - accuracy: 0.9384 - val_loss: 0.9057 - val_accuracy: 0.8120\n",
      "71/71 [==============================] - 0s 4ms/step - loss: 1.0017 - accuracy: 0.7818\n",
      "['loss', 'accuracy']\n",
      "[1.0016908645629883, 0.7818343639373779]\n"
     ]
    }
   ],
   "source": [
    "model = models.Sequential()\n",
    "model.add(layers.Dense(64, activation='relu', input_shape=(10000,)))\n",
    "model.add(layers.Dense(64, activation='relu'))\n",
    "model.add(layers.Dense(46, activation='softmax'))\n",
    "\n",
    "model.compile(optimizer='rmsprop',\n",
    "             loss='categorical_crossentropy',\n",
    "             metrics=['accuracy'])\n",
    "\n",
    "history = model.fit(partial_x_train,\n",
    "                   partial_y_train,\n",
    "                   epochs=9,\n",
    "                   batch_size=512,\n",
    "                   validation_data=(x_val, y_val))\n",
    "\n",
    "results = model.evaluate(x_test, one_hot_test_labels)\n",
    "print(model.metrics_names)\n",
    "print(results)"
   ]
  },
  {
   "cell_type": "markdown",
   "id": "ac5e0938",
   "metadata": {},
   "source": [
    "- 랜덤으로 분류할 경우 데이터셋의 불균형으로 인해 정확도가 18%밖에 안 나오는데에 비해 약 78%라는 나쁘지 않은 정확도가 나왔다.\n",
    "- 새로운 데이터셋에 대한 예측 결과를 출력해 본다."
   ]
  },
  {
   "cell_type": "code",
   "execution_count": 14,
   "id": "d2521109",
   "metadata": {},
   "outputs": [
    {
     "name": "stdout",
     "output_type": "stream",
     "text": [
      "[[1.6241831e-05 8.3868232e-05 1.6343863e-04 ... 1.6445450e-05\n",
      "  9.7248596e-07 8.7875225e-07]\n",
      " [1.1338156e-03 2.7931141e-02 6.8981266e-03 ... 2.3916834e-04\n",
      "  3.9000565e-06 1.0140047e-03]\n",
      " [2.8288404e-03 8.5281175e-01 7.9734286e-04 ... 5.1027769e-04\n",
      "  4.6706319e-04 7.9034828e-05]\n",
      " ...\n",
      " [2.7464395e-05 2.1685439e-04 9.7597971e-05 ... 1.8364841e-05\n",
      "  4.4821572e-06 3.1778161e-06]\n",
      " [1.5915928e-03 3.8846377e-02 1.0630949e-02 ... 1.5481485e-03\n",
      "  2.8586591e-04 5.3940510e-04]\n",
      " [1.4795263e-04 8.8184768e-01 5.2210141e-04 ... 1.0780270e-04\n",
      "  1.6456630e-04 7.6553799e-05]]\n"
     ]
    }
   ],
   "source": [
    "predictions = model.predict(x_test)\n",
    "print(predictions)"
   ]
  },
  {
   "cell_type": "markdown",
   "id": "218d54a2",
   "metadata": {},
   "source": [
    "- One-hot 과 같이 레이블을 인코딩하는 다른 방법은 정수 텐서를 만드는 것이다.\n",
    "- 이 방식을 활용하면 손실 함수를 바꾸면 된다. 수학적으로는 categorical_crossentropy와 동일하다."
   ]
  },
  {
   "cell_type": "code",
   "execution_count": 21,
   "id": "52771830",
   "metadata": {},
   "outputs": [],
   "source": [
    "y_train = np.array(train_labels)\n",
    "y_test = np.array(test_labels)\n",
    "\n",
    "model.compile(optimizer='rmsprop',\n",
    "             loss='sparse_categorical_crossentropy',\n",
    "             metrics=['accuracy'])"
   ]
  },
  {
   "cell_type": "code",
   "execution_count": 25,
   "id": "7d8f5a90",
   "metadata": {},
   "outputs": [
    {
     "name": "stdout",
     "output_type": "stream",
     "text": [
      "Epoch 1/10\n",
      "16/16 [==============================] - 1s 42ms/step - loss: 2.0380 - accuracy: 0.5326 - val_loss: 1.3360 - val_accuracy: 0.6970\n",
      "Epoch 2/10\n",
      "16/16 [==============================] - 0s 28ms/step - loss: 1.0374 - accuracy: 0.7610 - val_loss: 1.0679 - val_accuracy: 0.7580\n",
      "Epoch 3/10\n",
      "16/16 [==============================] - 0s 29ms/step - loss: 0.6866 - accuracy: 0.8396 - val_loss: 0.8974 - val_accuracy: 0.8040\n",
      "Epoch 4/10\n",
      "16/16 [==============================] - 0s 29ms/step - loss: 0.4258 - accuracy: 0.9022 - val_loss: 0.9298 - val_accuracy: 0.7850\n",
      "Epoch 5/10\n",
      "16/16 [==============================] - 0s 28ms/step - loss: 0.3046 - accuracy: 0.9276 - val_loss: 1.0221 - val_accuracy: 0.7890\n",
      "Epoch 6/10\n",
      "16/16 [==============================] - 0s 28ms/step - loss: 0.2482 - accuracy: 0.9390 - val_loss: 0.8702 - val_accuracy: 0.8140\n",
      "Epoch 7/10\n",
      "16/16 [==============================] - 0s 28ms/step - loss: 0.1670 - accuracy: 0.9513 - val_loss: 1.0881 - val_accuracy: 0.7800\n",
      "Epoch 8/10\n",
      "16/16 [==============================] - 0s 28ms/step - loss: 0.1564 - accuracy: 0.9536 - val_loss: 0.9798 - val_accuracy: 0.8040\n",
      "Epoch 9/10\n",
      "16/16 [==============================] - 0s 28ms/step - loss: 0.1427 - accuracy: 0.9535 - val_loss: 1.0727 - val_accuracy: 0.7830\n",
      "Epoch 10/10\n",
      "16/16 [==============================] - 0s 27ms/step - loss: 0.1349 - accuracy: 0.9555 - val_loss: 1.0612 - val_accuracy: 0.7890\n"
     ]
    },
    {
     "data": {
      "image/png": "[encoded data removed]",
      "text/plain": [
       "<Figure size 432x288 with 1 Axes>"
      ]
     },
     "metadata": {
      "needs_background": "light"
     },
     "output_type": "display_data"
    },
    {
     "name": "stdout",
     "output_type": "stream",
     "text": [
      "71/71 [==============================] - 1s 9ms/step - loss: 1.1756 - accuracy: 0.7907\n",
      "['loss', 'accuracy']\n",
      "[1.1756166219711304, 0.790739119052887]\n"
     ]
    }
   ],
   "source": [
    "model = models.Sequential()\n",
    "model.add(layers.Dense(512, activation='relu', input_shape=(10000,)))\n",
    "model.add(layers.Dense(64, activation='relu'))\n",
    "model.add(layers.Dense(512, activation='relu'))\n",
    "model.add(layers.Dense(46, activation='softmax'))\n",
    "\n",
    "model.compile(optimizer='rmsprop',\n",
    "             loss='categorical_crossentropy',\n",
    "             metrics=['accuracy'])\n",
    "\n",
    "history = model.fit(partial_x_train,\n",
    "                   partial_y_train,\n",
    "                   epochs=10,\n",
    "                   batch_size=512,\n",
    "                   validation_data=(x_val, y_val))\n",
    "\n",
    "plt.clf()\n",
    "\n",
    "acc = history.history['accuracy']\n",
    "val_acc = history.history['val_accuracy']\n",
    "epochs = range(1, len(acc) + 1)\n",
    "\n",
    "plt.plot(epochs, acc, 'bo', label='Training acc')\n",
    "plt.plot(epochs, val_acc, 'b', label='Validation acc')\n",
    "plt.title('Training and validation accuracy')\n",
    "plt.xlabel('Epochs')\n",
    "plt.ylabel('Accuracy')\n",
    "plt.legend()\n",
    "\n",
    "plt.show()\n",
    "\n",
    "results = model.evaluate(x_test, one_hot_test_labels)\n",
    "print(model.metrics_names)\n",
    "print(results)"
   ]
  }
 ],
 "metadata": {
  "kernelspec": {
   "display_name": "Python 3 (ipykernel)",
   "language": "python",
   "name": "python3"
  },
  "language_info": {
   "codemirror_mode": {
    "name": "ipython",
    "version": 3
   },
   "file_extension": ".py",
   "mimetype": "text/x-python",
   "name": "python",
   "nbconvert_exporter": "python",
   "pygments_lexer": "ipython3",
   "version": "3.9.7"
  }
 },
 "nbformat": 4,
 "nbformat_minor": 5
}
