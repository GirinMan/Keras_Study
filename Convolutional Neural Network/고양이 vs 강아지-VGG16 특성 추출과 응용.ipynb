{
 "cells": [
  {
   "cell_type": "markdown",
   "metadata": {},
   "source": [
    "# 사전 학습된 네트워크를 활용하여 모델 훈련시키기\n",
    "## 1. VGG16 모델\n",
    "- VGG16은 ImageNet dataset에서 훈련된 합성곱 기반 네트워크로 케라스에 패키지로 포함되어 있다.\n",
    "- 사전 학습된 모델의 완전 분류기(최상위 Dense 층)는 표현이 일반적이지 않기 때문에 재사용하기 어렵다. 그보다 상대적으로 더 하위 레벨의 합성곱 층들은 이미지의 질감, 색상 등의 더 일반적인 특성을 판단하므로 상대적으로 더 많은 문제에 사용하기 적합하므로 최상위 완전 분류기를 제외한 이 부분만 사용한다."
   ]
  },
  {
   "cell_type": "code",
   "execution_count": 2,
   "metadata": {},
   "outputs": [],
   "source": [
    "from tensorflow.keras.applications import VGG16\n",
    "\n",
    "conv_base = VGG16(weights='imagenet', include_top=False, input_shape=(150, 150,3))"
   ]
  },
  {
   "cell_type": "code",
   "execution_count": 2,
   "metadata": {},
   "outputs": [
    {
     "name": "stdout",
     "output_type": "stream",
     "text": [
      "Model: \"vgg16\"\n",
      "_________________________________________________________________\n",
      " Layer (type)                Output Shape              Param #   \n",
      "=================================================================\n",
      " input_1 (InputLayer)        [(None, 150, 150, 3)]     0         \n",
      "                                                                 \n",
      " block1_conv1 (Conv2D)       (None, 150, 150, 64)      1792      \n",
      "                                                                 \n",
      " block1_conv2 (Conv2D)       (None, 150, 150, 64)      36928     \n",
      "                                                                 \n",
      " block1_pool (MaxPooling2D)  (None, 75, 75, 64)        0         \n",
      "                                                                 \n",
      " block2_conv1 (Conv2D)       (None, 75, 75, 128)       73856     \n",
      "                                                                 \n",
      " block2_conv2 (Conv2D)       (None, 75, 75, 128)       147584    \n",
      "                                                                 \n",
      " block2_pool (MaxPooling2D)  (None, 37, 37, 128)       0         \n",
      "                                                                 \n",
      " block3_conv1 (Conv2D)       (None, 37, 37, 256)       295168    \n",
      "                                                                 \n",
      " block3_conv2 (Conv2D)       (None, 37, 37, 256)       590080    \n",
      "                                                                 \n",
      " block3_conv3 (Conv2D)       (None, 37, 37, 256)       590080    \n",
      "                                                                 \n",
      " block3_pool (MaxPooling2D)  (None, 18, 18, 256)       0         \n",
      "                                                                 \n",
      " block4_conv1 (Conv2D)       (None, 18, 18, 512)       1180160   \n",
      "                                                                 \n",
      " block4_conv2 (Conv2D)       (None, 18, 18, 512)       2359808   \n",
      "                                                                 \n",
      " block4_conv3 (Conv2D)       (None, 18, 18, 512)       2359808   \n",
      "                                                                 \n",
      " block4_pool (MaxPooling2D)  (None, 9, 9, 512)         0         \n",
      "                                                                 \n",
      " block5_conv1 (Conv2D)       (None, 9, 9, 512)         2359808   \n",
      "                                                                 \n",
      " block5_conv2 (Conv2D)       (None, 9, 9, 512)         2359808   \n",
      "                                                                 \n",
      " block5_conv3 (Conv2D)       (None, 9, 9, 512)         2359808   \n",
      "                                                                 \n",
      " block5_pool (MaxPooling2D)  (None, 4, 4, 512)         0         \n",
      "                                                                 \n",
      "=================================================================\n",
      "Total params: 14,714,688\n",
      "Trainable params: 14,714,688\n",
      "Non-trainable params: 0\n",
      "_________________________________________________________________\n"
     ]
    }
   ],
   "source": [
    "conv_base.summary()"
   ]
  },
  {
   "cell_type": "markdown",
   "metadata": {},
   "source": [
    "## 2. 데이터 증식을 활용하지 않는 빠른 추출\n",
    "- VGG16 모델을 활용하는 첫번째 방법은 predict 메소드를 이용하여 기존 모델이 예측한 특성을 그대로 레이블에 매치되도록 학습시키는 것이다.\n",
    "- 추출된 특성은 샘플 하나당 (4, 4, 512) 사이즈 이므로 Dense 층에서 학습시키기 위해 (8192,) 사이즈로 조정한다. "
   ]
  },
  {
   "cell_type": "code",
   "execution_count": 3,
   "metadata": {},
   "outputs": [
    {
     "name": "stdout",
     "output_type": "stream",
     "text": [
      "Found 2000 images belonging to 2 classes.\n",
      "Found 1000 images belonging to 2 classes.\n",
      "Found 1000 images belonging to 2 classes.\n"
     ]
    }
   ],
   "source": [
    "import os\n",
    "import numpy as np\n",
    "from keras.preprocessing.image import ImageDataGenerator\n",
    "\n",
    "base_dir = '../datasets/small'\n",
    "train_dir = os.path.join(base_dir, 'train')\n",
    "validation_dir = os.path.join(base_dir, 'validation')\n",
    "test_dir = os.path.join(base_dir, 'test')\n",
    "\n",
    "datagen = ImageDataGenerator(rescale=1./255)\n",
    "batch_size = 20\n",
    "\n",
    "def extract_features(directory, sample_count):\n",
    "    features = np.zeros(shape=(sample_count, 4, 4, 512))\n",
    "    labels = np.zeros(shape=(sample_count))\n",
    "    generator = datagen.flow_from_directory( \n",
    "        directory,\n",
    "        target_size=(150, 150),\n",
    "        batch_size=batch_size,\n",
    "        class_mode='binary'\n",
    "    )\n",
    "    i=0\n",
    "    for inputs_batch, labels_batch in generator:\n",
    "        features_batch = conv_base.predict(inputs_batch)\n",
    "        features[i * batch_size : (i+1) * batch_size] = features_batch\n",
    "        labels[i * batch_size : (i+1) * batch_size] = labels_batch\n",
    "        i += 1\n",
    "        if i * batch_size >= sample_count:\n",
    "            break\n",
    "    return features, labels\n",
    "\n",
    "train_features, train_labels = extract_features(train_dir, 2000)\n",
    "validation_features, validation_labels = extract_features(validation_dir, 1000)\n",
    "test_features, test_labels = extract_features(test_dir, 1000)\n",
    "\n",
    "train_features = np.reshape(train_features, (2000, 4 * 4 * 512))\n",
    "validation_features = np.reshape(validation_features, (1000, 4 * 4 * 512))\n",
    "test_features = np.reshape(test_features, (1000, 4 * 4 * 512))\n"
   ]
  },
  {
   "cell_type": "code",
   "execution_count": 9,
   "metadata": {},
   "outputs": [],
   "source": [
    "def save_model(model, history, num=1):\n",
    "    model.save('cats_and_dogs_small_%d.h5' % num)\n",
    "    np.save('cats_and_dogs_history_%d.npy' % num,history.history)"
   ]
  },
  {
   "cell_type": "markdown",
   "metadata": {},
   "source": [
    "- 앞서 직접 CNN을 훈련했던 것과 비슷하게 고양이와 강아지 사진을 분류하기 위한 모델을 구성하고 훈련시킨다. 이때 입력 차원을 아까 추출한 특성 데이터에 맞게 설정해준다.\n",
    "- Overfitting을 억제하기 위해 최상위 분류기 이전에 Dropout 층을 추가한다."
   ]
  },
  {
   "cell_type": "code",
   "execution_count": 18,
   "metadata": {},
   "outputs": [
    {
     "name": "stdout",
     "output_type": "stream",
     "text": [
      "Epoch 1/30\n",
      "100/100 [==============================] - 2s 11ms/step - loss: 0.6092 - acc: 0.6610 - val_loss: 0.4422 - val_acc: 0.8340\n",
      "Epoch 2/30\n",
      "100/100 [==============================] - 1s 9ms/step - loss: 0.4191 - acc: 0.8170 - val_loss: 0.3648 - val_acc: 0.8530\n",
      "Epoch 3/30\n",
      "100/100 [==============================] - 1s 8ms/step - loss: 0.3613 - acc: 0.8405 - val_loss: 0.3319 - val_acc: 0.8610\n",
      "Epoch 4/30\n",
      "100/100 [==============================] - 1s 8ms/step - loss: 0.3150 - acc: 0.8635 - val_loss: 0.3065 - val_acc: 0.8760\n",
      "Epoch 5/30\n",
      "100/100 [==============================] - 1s 8ms/step - loss: 0.2837 - acc: 0.8825 - val_loss: 0.2979 - val_acc: 0.8730\n",
      "Epoch 6/30\n",
      "100/100 [==============================] - 1s 9ms/step - loss: 0.2691 - acc: 0.8860 - val_loss: 0.2792 - val_acc: 0.8930\n",
      "Epoch 7/30\n",
      "100/100 [==============================] - 1s 9ms/step - loss: 0.2424 - acc: 0.9060 - val_loss: 0.2663 - val_acc: 0.8960\n",
      "Epoch 8/30\n",
      "100/100 [==============================] - 1s 8ms/step - loss: 0.2276 - acc: 0.9105 - val_loss: 0.2671 - val_acc: 0.8840\n",
      "Epoch 9/30\n",
      "100/100 [==============================] - 1s 8ms/step - loss: 0.2144 - acc: 0.9195 - val_loss: 0.2653 - val_acc: 0.8840\n",
      "Epoch 10/30\n",
      "100/100 [==============================] - 1s 9ms/step - loss: 0.2050 - acc: 0.9240 - val_loss: 0.2531 - val_acc: 0.9010\n",
      "Epoch 11/30\n",
      "100/100 [==============================] - 1s 8ms/step - loss: 0.1998 - acc: 0.9240 - val_loss: 0.2517 - val_acc: 0.8990\n",
      "Epoch 12/30\n",
      "100/100 [==============================] - 1s 8ms/step - loss: 0.1958 - acc: 0.9285 - val_loss: 0.2470 - val_acc: 0.9010\n",
      "Epoch 13/30\n",
      "100/100 [==============================] - 1s 8ms/step - loss: 0.1744 - acc: 0.9420 - val_loss: 0.2649 - val_acc: 0.8860\n",
      "Epoch 14/30\n",
      "100/100 [==============================] - 1s 8ms/step - loss: 0.1682 - acc: 0.9380 - val_loss: 0.2434 - val_acc: 0.9030\n",
      "Epoch 15/30\n",
      "100/100 [==============================] - 1s 8ms/step - loss: 0.1647 - acc: 0.9430 - val_loss: 0.2491 - val_acc: 0.8920\n",
      "Epoch 16/30\n",
      "100/100 [==============================] - 1s 8ms/step - loss: 0.1535 - acc: 0.9480 - val_loss: 0.2406 - val_acc: 0.9040\n",
      "Epoch 17/30\n",
      "100/100 [==============================] - 1s 8ms/step - loss: 0.1493 - acc: 0.9490 - val_loss: 0.2453 - val_acc: 0.8960\n",
      "Epoch 18/30\n",
      "100/100 [==============================] - 1s 8ms/step - loss: 0.1426 - acc: 0.9555 - val_loss: 0.2386 - val_acc: 0.9060\n",
      "Epoch 19/30\n",
      "100/100 [==============================] - 1s 8ms/step - loss: 0.1397 - acc: 0.9520 - val_loss: 0.2468 - val_acc: 0.8950\n",
      "Epoch 20/30\n",
      "100/100 [==============================] - 1s 8ms/step - loss: 0.1307 - acc: 0.9570 - val_loss: 0.2382 - val_acc: 0.9040\n",
      "Epoch 21/30\n",
      "100/100 [==============================] - 1s 8ms/step - loss: 0.1260 - acc: 0.9570 - val_loss: 0.2393 - val_acc: 0.9030\n",
      "Epoch 22/30\n",
      "100/100 [==============================] - 1s 8ms/step - loss: 0.1251 - acc: 0.9560 - val_loss: 0.2478 - val_acc: 0.8990\n",
      "Epoch 23/30\n",
      "100/100 [==============================] - 1s 8ms/step - loss: 0.1169 - acc: 0.9620 - val_loss: 0.2380 - val_acc: 0.9020\n",
      "Epoch 24/30\n",
      "100/100 [==============================] - 1s 8ms/step - loss: 0.1104 - acc: 0.9660 - val_loss: 0.2524 - val_acc: 0.8960\n",
      "Epoch 25/30\n",
      "100/100 [==============================] - 1s 8ms/step - loss: 0.1070 - acc: 0.9655 - val_loss: 0.2414 - val_acc: 0.8970\n",
      "Epoch 26/30\n",
      "100/100 [==============================] - 1s 8ms/step - loss: 0.1053 - acc: 0.9670 - val_loss: 0.2376 - val_acc: 0.9050\n",
      "Epoch 27/30\n",
      "100/100 [==============================] - 1s 8ms/step - loss: 0.1013 - acc: 0.9705 - val_loss: 0.2385 - val_acc: 0.9030\n",
      "Epoch 28/30\n",
      "100/100 [==============================] - 1s 8ms/step - loss: 0.0991 - acc: 0.9650 - val_loss: 0.2510 - val_acc: 0.8990\n",
      "Epoch 29/30\n",
      "100/100 [==============================] - 1s 8ms/step - loss: 0.0942 - acc: 0.9710 - val_loss: 0.2411 - val_acc: 0.9000\n",
      "Epoch 30/30\n",
      "100/100 [==============================] - 1s 8ms/step - loss: 0.0912 - acc: 0.9725 - val_loss: 0.2437 - val_acc: 0.8950\n"
     ]
    }
   ],
   "source": [
    "from tensorflow.keras import models, layers, optimizers\n",
    "\n",
    "model = models.Sequential()\n",
    "model.add(layers.Dense(256, activation='relu', input_dim=4 * 4 * 512))\n",
    "model.add(layers.Dropout(0.5))\n",
    "model.add(layers.Dense(1, activation='sigmoid'))\n",
    "model.compile(optimizer=optimizers.RMSprop(learning_rate=2e-5), loss='binary_crossentropy', metrics=['acc'])\n",
    "\n",
    "history = model.fit(train_features, train_labels, epochs=30, batch_size=20, validation_data = (validation_features, validation_labels))\n",
    "\n",
    "save_model(model, history, 3)"
   ]
  },
  {
   "cell_type": "code",
   "execution_count": 19,
   "metadata": {},
   "outputs": [
    {
     "data": {
      "image/png": "[encoded data removed]",
      "text/plain": [
       "<Figure size 432x288 with 1 Axes>"
      ]
     },
     "metadata": {
      "needs_background": "light"
     },
     "output_type": "display_data"
    },
    {
     "data": {
      "image/png": "[encoded data removed]",
      "text/plain": [
       "<Figure size 432x288 with 1 Axes>"
      ]
     },
     "metadata": {
      "needs_background": "light"
     },
     "output_type": "display_data"
    }
   ],
   "source": [
    "import matplotlib.pyplot as plt\n",
    "\n",
    "acc = history.history['acc']\n",
    "val_acc = history.history['val_acc']\n",
    "loss = history.history['loss']\n",
    "val_loss = history.history['val_loss']\n",
    "\n",
    "epochs = range(1, len(acc) + 1)\n",
    "\n",
    "plt.plot(epochs, acc, 'bo', label = 'Training acc')\n",
    "plt.plot(epochs, val_acc, 'r', label = 'Validation acc')\n",
    "plt.title('Training and validation accuracy')\n",
    "plt.legend()\n",
    "\n",
    "plt.figure()\n",
    "\n",
    "plt.plot(epochs, loss, 'bo', label = 'Training loss')\n",
    "plt.plot(epochs, val_loss, 'r', label = 'Validation loss')\n",
    "plt.title('Training and validation loss')\n",
    "plt.legend()\n",
    "\n",
    "plt.show()"
   ]
  },
  {
   "cell_type": "markdown",
   "metadata": {},
   "source": [
    "## 3. 데이터 증식을 활용한 특성 추출\n",
    "- 앞선 모델의 훈련 결과에서 검증 정확도는 약 90% 정도로, CNN 전체를 처음부터 훈련시키는 방법보다 훨씬 높은 정확도를 보여주고 있다.\n",
    "- 하지만 0.5 배율의 Dropout을 사용했는데도 불구하고, 학습이 거의 시작되자마자 바로 overfitting이 나타나는 것을 볼 수 있다.\n",
    "- 훈련 데이터의 수가 적기 때문에 더 많은 훈련 데이터로 ovefitting을 제한하기 위해 데이터를 증식하고, 모델을 구성할 때 층을 추가하듯이 VGG16 모델을 추가하여 입력 데이터와 출력을 end-to-end로 실행한다."
   ]
  },
  {
   "cell_type": "code",
   "execution_count": 21,
   "metadata": {},
   "outputs": [
    {
     "name": "stdout",
     "output_type": "stream",
     "text": [
      "Model: \"sequential_6\"\n",
      "_________________________________________________________________\n",
      " Layer (type)                Output Shape              Param #   \n",
      "=================================================================\n",
      " vgg16 (Functional)          (None, 4, 4, 512)         14714688  \n",
      "                                                                 \n",
      " flatten_1 (Flatten)         (None, 8192)              0         \n",
      "                                                                 \n",
      " dense_10 (Dense)            (None, 256)               2097408   \n",
      "                                                                 \n",
      " dense_11 (Dense)            (None, 1)                 257       \n",
      "                                                                 \n",
      "=================================================================\n",
      "Total params: 16,812,353\n",
      "Trainable params: 16,812,353\n",
      "Non-trainable params: 0\n",
      "_________________________________________________________________\n"
     ]
    }
   ],
   "source": [
    "model = models.Sequential()\n",
    "model.add(conv_base)\n",
    "model.add(layers.Flatten())\n",
    "model.add(layers.Dense(256, activation='relu'))\n",
    "model.add(layers.Dense(1, activation='sigmoid'))\n",
    "\n",
    "model.summary()"
   ]
  },
  {
   "cell_type": "markdown",
   "metadata": {},
   "source": [
    "- 모델에 추가한 VGG16 모델의 층들은 모두 합쳐 14,714,688개나 되는 가중치 파라미터를 가지고 있다. 만약 이 파라미터들을 훈련 과정에서 전부 업데이트하게 된다면, 맨 위의 랜덤하게 초기화된 Dense 층에 의해 매우 큰 변화가 전파되어 기존에 학습된 표현들을 크게 훼손할 것이다.\n",
    "- 따라서 vgg16 모델로 구성된 층의 trainable 속성을 False로 설정하여 이 부분만 학습이 일어나지 않도록 동결한 뒤, ImageDataGenerator를 활용하여 훈련 데이터만 랜덤하게 변형시킨 형태로 증식하여 훈련을 진행한다."
   ]
  },
  {
   "cell_type": "code",
   "execution_count": 23,
   "metadata": {},
   "outputs": [
    {
     "name": "stdout",
     "output_type": "stream",
     "text": [
      "Number of trainable parameters before freezing conv_base: 4\n",
      "Number of trainable parameters after freezing conv_base: 4\n",
      "Model: \"sequential_6\"\n",
      "_________________________________________________________________\n",
      " Layer (type)                Output Shape              Param #   \n",
      "=================================================================\n",
      " vgg16 (Functional)          (None, 4, 4, 512)         14714688  \n",
      "                                                                 \n",
      " flatten_1 (Flatten)         (None, 8192)              0         \n",
      "                                                                 \n",
      " dense_10 (Dense)            (None, 256)               2097408   \n",
      "                                                                 \n",
      " dense_11 (Dense)            (None, 1)                 257       \n",
      "                                                                 \n",
      "=================================================================\n",
      "Total params: 16,812,353\n",
      "Trainable params: 2,097,665\n",
      "Non-trainable params: 14,714,688\n",
      "_________________________________________________________________\n"
     ]
    }
   ],
   "source": [
    "print('Number of trainable parameters before freezing conv_base:', len(model.trainable_weights))\n",
    "conv_base.trainable = False\n",
    "print('Number of trainable parameters after freezing conv_base:', len(model.trainable_weights))\n",
    "model.summary()"
   ]
  },
  {
   "cell_type": "code",
   "execution_count": 28,
   "metadata": {},
   "outputs": [
    {
     "name": "stdout",
     "output_type": "stream",
     "text": [
      "Found 2000 images belonging to 2 classes.\n",
      "Found 1000 images belonging to 2 classes.\n",
      "Epoch 1/30\n",
      "100/100 [==============================] - 25s 239ms/step - loss: 0.5400 - acc: 0.7535 - val_loss: 0.4340 - val_acc: 0.8160\n",
      "Epoch 2/30\n",
      "100/100 [==============================] - 23s 233ms/step - loss: 0.4156 - acc: 0.8305 - val_loss: 0.3365 - val_acc: 0.8790\n",
      "Epoch 3/30\n",
      "100/100 [==============================] - 23s 233ms/step - loss: 0.3501 - acc: 0.8565 - val_loss: 0.3010 - val_acc: 0.8850\n",
      "Epoch 4/30\n",
      "100/100 [==============================] - 24s 237ms/step - loss: 0.3246 - acc: 0.8680 - val_loss: 0.2811 - val_acc: 0.8960\n",
      "Epoch 5/30\n",
      "100/100 [==============================] - 24s 235ms/step - loss: 0.3015 - acc: 0.8755 - val_loss: 0.2677 - val_acc: 0.8960\n",
      "Epoch 6/30\n",
      "100/100 [==============================] - 24s 236ms/step - loss: 0.2846 - acc: 0.8855 - val_loss: 0.2601 - val_acc: 0.8990\n",
      "Epoch 7/30\n",
      "100/100 [==============================] - 23s 234ms/step - loss: 0.2702 - acc: 0.8885 - val_loss: 0.2538 - val_acc: 0.9040\n",
      "Epoch 8/30\n",
      "100/100 [==============================] - 24s 237ms/step - loss: 0.2635 - acc: 0.8940 - val_loss: 0.2531 - val_acc: 0.9020\n",
      "Epoch 9/30\n",
      "100/100 [==============================] - 24s 235ms/step - loss: 0.2474 - acc: 0.9040 - val_loss: 0.2534 - val_acc: 0.8950\n",
      "Epoch 10/30\n",
      "100/100 [==============================] - 24s 235ms/step - loss: 0.2468 - acc: 0.9030 - val_loss: 0.2412 - val_acc: 0.9050\n",
      "Epoch 11/30\n",
      "100/100 [==============================] - 23s 233ms/step - loss: 0.2497 - acc: 0.9005 - val_loss: 0.2431 - val_acc: 0.9050\n",
      "Epoch 12/30\n",
      "100/100 [==============================] - 24s 235ms/step - loss: 0.2310 - acc: 0.9095 - val_loss: 0.2427 - val_acc: 0.9040\n",
      "Epoch 13/30\n",
      "100/100 [==============================] - 24s 234ms/step - loss: 0.2296 - acc: 0.9115 - val_loss: 0.2354 - val_acc: 0.9080\n",
      "Epoch 14/30\n",
      "100/100 [==============================] - 24s 235ms/step - loss: 0.2256 - acc: 0.9170 - val_loss: 0.2348 - val_acc: 0.9090\n",
      "Epoch 15/30\n",
      "100/100 [==============================] - 23s 234ms/step - loss: 0.2295 - acc: 0.9080 - val_loss: 0.2326 - val_acc: 0.9040\n",
      "Epoch 16/30\n",
      "100/100 [==============================] - 24s 237ms/step - loss: 0.2247 - acc: 0.9045 - val_loss: 0.2341 - val_acc: 0.9060\n",
      "Epoch 17/30\n",
      "100/100 [==============================] - 24s 236ms/step - loss: 0.2135 - acc: 0.9130 - val_loss: 0.2354 - val_acc: 0.9060\n",
      "Epoch 18/30\n",
      "100/100 [==============================] - 24s 235ms/step - loss: 0.2205 - acc: 0.9120 - val_loss: 0.2398 - val_acc: 0.9000\n",
      "Epoch 19/30\n",
      "100/100 [==============================] - 24s 235ms/step - loss: 0.2046 - acc: 0.9140 - val_loss: 0.2314 - val_acc: 0.9070\n",
      "Epoch 20/30\n",
      "100/100 [==============================] - 24s 235ms/step - loss: 0.2113 - acc: 0.9165 - val_loss: 0.2320 - val_acc: 0.9000\n",
      "Epoch 21/30\n",
      "100/100 [==============================] - 24s 235ms/step - loss: 0.2049 - acc: 0.9200 - val_loss: 0.2303 - val_acc: 0.9060\n",
      "Epoch 22/30\n",
      "100/100 [==============================] - 24s 241ms/step - loss: 0.1948 - acc: 0.9235 - val_loss: 0.2378 - val_acc: 0.9050\n",
      "Epoch 23/30\n",
      "100/100 [==============================] - 24s 238ms/step - loss: 0.1915 - acc: 0.9195 - val_loss: 0.2292 - val_acc: 0.9050\n",
      "Epoch 24/30\n",
      "100/100 [==============================] - 24s 236ms/step - loss: 0.1876 - acc: 0.9260 - val_loss: 0.2395 - val_acc: 0.9030\n",
      "Epoch 25/30\n",
      "100/100 [==============================] - 23s 233ms/step - loss: 0.1969 - acc: 0.9220 - val_loss: 0.2341 - val_acc: 0.9060\n",
      "Epoch 26/30\n",
      "100/100 [==============================] - 23s 232ms/step - loss: 0.1956 - acc: 0.9180 - val_loss: 0.2347 - val_acc: 0.9050\n",
      "Epoch 27/30\n",
      "100/100 [==============================] - 26s 255ms/step - loss: 0.1912 - acc: 0.9205 - val_loss: 0.2323 - val_acc: 0.9070\n",
      "Epoch 28/30\n",
      "100/100 [==============================] - 23s 234ms/step - loss: 0.1814 - acc: 0.9265 - val_loss: 0.2345 - val_acc: 0.9100\n",
      "Epoch 29/30\n",
      "100/100 [==============================] - 25s 251ms/step - loss: 0.1833 - acc: 0.9285 - val_loss: 0.2323 - val_acc: 0.9100\n",
      "Epoch 30/30\n",
      "100/100 [==============================] - 23s 232ms/step - loss: 0.1742 - acc: 0.9315 - val_loss: 0.2360 - val_acc: 0.9100\n"
     ]
    }
   ],
   "source": [
    "train_datagen = ImageDataGenerator(\n",
    "    rescale=1./255,\n",
    "    rotation_range=20,\n",
    "    width_shift_range=0.1,\n",
    "    height_shift_range=0.1,\n",
    "    shear_range=0.1,\n",
    "    zoom_range=0.1,\n",
    "    horizontal_flip=True,\n",
    "    fill_mode='nearest'\n",
    ")\n",
    "\n",
    "test_datagen = ImageDataGenerator(rescale=1./255)\n",
    "\n",
    "train_generator = train_datagen.flow_from_directory(\n",
    "    train_dir,\n",
    "    target_size=(150,150),\n",
    "    batch_size=20,\n",
    "    class_mode='binary'\n",
    ")\n",
    "\n",
    "validation_generator = test_datagen.flow_from_directory(\n",
    "    validation_dir,\n",
    "    target_size=(150,150),\n",
    "    batch_size=20,\n",
    "    class_mode='binary'\n",
    ")\n",
    "\n",
    "model.compile(loss='binary_crossentropy', optimizer=optimizers.RMSprop(learning_rate=2e-5), metrics=['acc'])\n",
    "\n",
    "history = model.fit(\n",
    "    train_generator,\n",
    "    steps_per_epoch=100,\n",
    "    epochs=30,\n",
    "    validation_data=validation_generator,\n",
    "    validation_steps=50\n",
    ")"
   ]
  },
  {
   "cell_type": "code",
   "execution_count": 29,
   "metadata": {},
   "outputs": [
    {
     "data": {
      "image/png": "[encoded data removed]",
      "text/plain": [
       "<Figure size 432x288 with 1 Axes>"
      ]
     },
     "metadata": {
      "needs_background": "light"
     },
     "output_type": "display_data"
    },
    {
     "data": {
      "image/png": "[encoded data removed]",
      "text/plain": [
       "<Figure size 432x288 with 1 Axes>"
      ]
     },
     "metadata": {
      "needs_background": "light"
     },
     "output_type": "display_data"
    }
   ],
   "source": [
    "save_model(model, history, 3)\n",
    "\n",
    "acc = history.history['acc']\n",
    "val_acc = history.history['val_acc']\n",
    "loss = history.history['loss']\n",
    "val_loss = history.history['val_loss']\n",
    "\n",
    "epochs = range(1, len(acc) + 1)\n",
    "\n",
    "plt.plot(epochs, acc, 'bo', label = 'Training acc')\n",
    "plt.plot(epochs, val_acc, 'r', label = 'Validation acc')\n",
    "plt.title('Training and validation accuracy')\n",
    "plt.legend()\n",
    "\n",
    "plt.figure()\n",
    "\n",
    "plt.plot(epochs, loss, 'bo', label = 'Training loss')\n",
    "plt.plot(epochs, val_loss, 'r', label = 'Validation loss')\n",
    "plt.title('Training and validation loss')\n",
    "plt.legend()\n",
    "\n",
    "plt.show()"
   ]
  },
  {
   "cell_type": "markdown",
   "metadata": {},
   "source": [
    "- 훈련 결과 단순히 특성을 추출한 결과를 학습시킨 것 보다 훨씬 overfitting이 억제된 것을 볼 수 있다."
   ]
  }
 ],
 "metadata": {
  "interpreter": {
   "hash": "b3ba2566441a7c06988d0923437866b63cedc61552a5af99d1f4fb67d367b25f"
  },
  "kernelspec": {
   "display_name": "Python 3.9.7 64-bit ('base': conda)",
   "language": "python",
   "name": "python3"
  },
  "language_info": {
   "codemirror_mode": {
    "name": "ipython",
    "version": 3
   },
   "file_extension": ".py",
   "mimetype": "text/x-python",
   "name": "python",
   "nbconvert_exporter": "python",
   "pygments_lexer": "ipython3",
   "version": "3.9.7"
  },
  "orig_nbformat": 4
 },
 "nbformat": 4,
 "nbformat_minor": 2
}
