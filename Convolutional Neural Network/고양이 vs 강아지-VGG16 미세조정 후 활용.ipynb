{
 "cells": [
  {
   "cell_type": "markdown",
   "metadata": {},
   "source": [
    "# 사전 학습된 네트워크를 일부 조정하여 모델 훈련시키기\n",
    "## 1. VGG16 모델 조정\n",
    "- VGG16은 ImageNet dataset에서 훈련된 합성곱 기반 네트워크로 케라스에 패키지로 포함되어 있다.\n",
    "- 사전 학습된 모델의 완전 분류기(최상위 Dense 층)는 표현이 일반적이지 않기 때문에 재사용하기 어렵다. 그보다 상대적으로 더 하위 레벨의 합성곱 층들은 이미지의 질감, 색상 등의 더 일반적인 특성을 판단하므로 상대적으로 더 많은 문제에 사용하기 적합하므로 최상위 완전 분류기를 제외한 이 부분만 사용한다."
   ]
  },
  {
   "cell_type": "code",
   "execution_count": 3,
   "metadata": {},
   "outputs": [],
   "source": [
    "from tensorflow.keras.applications import VGG16\n",
    "\n",
    "conv_base = VGG16(weights='imagenet', include_top=False, input_shape=(150, 150,3))"
   ]
  },
  {
   "cell_type": "code",
   "execution_count": 4,
   "metadata": {},
   "outputs": [
    {
     "name": "stdout",
     "output_type": "stream",
     "text": [
      "Model: \"vgg16\"\n",
      "_________________________________________________________________\n",
      " Layer (type)                Output Shape              Param #   \n",
      "=================================================================\n",
      " input_1 (InputLayer)        [(None, 150, 150, 3)]     0         \n",
      "                                                                 \n",
      " block1_conv1 (Conv2D)       (None, 150, 150, 64)      1792      \n",
      "                                                                 \n",
      " block1_conv2 (Conv2D)       (None, 150, 150, 64)      36928     \n",
      "                                                                 \n",
      " block1_pool (MaxPooling2D)  (None, 75, 75, 64)        0         \n",
      "                                                                 \n",
      " block2_conv1 (Conv2D)       (None, 75, 75, 128)       73856     \n",
      "                                                                 \n",
      " block2_conv2 (Conv2D)       (None, 75, 75, 128)       147584    \n",
      "                                                                 \n",
      " block2_pool (MaxPooling2D)  (None, 37, 37, 128)       0         \n",
      "                                                                 \n",
      " block3_conv1 (Conv2D)       (None, 37, 37, 256)       295168    \n",
      "                                                                 \n",
      " block3_conv2 (Conv2D)       (None, 37, 37, 256)       590080    \n",
      "                                                                 \n",
      " block3_conv3 (Conv2D)       (None, 37, 37, 256)       590080    \n",
      "                                                                 \n",
      " block3_pool (MaxPooling2D)  (None, 18, 18, 256)       0         \n",
      "                                                                 \n",
      " block4_conv1 (Conv2D)       (None, 18, 18, 512)       1180160   \n",
      "                                                                 \n",
      " block4_conv2 (Conv2D)       (None, 18, 18, 512)       2359808   \n",
      "                                                                 \n",
      " block4_conv3 (Conv2D)       (None, 18, 18, 512)       2359808   \n",
      "                                                                 \n",
      " block4_pool (MaxPooling2D)  (None, 9, 9, 512)         0         \n",
      "                                                                 \n",
      " block5_conv1 (Conv2D)       (None, 9, 9, 512)         2359808   \n",
      "                                                                 \n",
      " block5_conv2 (Conv2D)       (None, 9, 9, 512)         2359808   \n",
      "                                                                 \n",
      " block5_conv3 (Conv2D)       (None, 9, 9, 512)         2359808   \n",
      "                                                                 \n",
      " block5_pool (MaxPooling2D)  (None, 4, 4, 512)         0         \n",
      "                                                                 \n",
      "=================================================================\n",
      "Total params: 14,714,688\n",
      "Trainable params: 14,714,688\n",
      "Non-trainable params: 0\n",
      "_________________________________________________________________\n"
     ]
    }
   ],
   "source": [
    "conv_base.summary()"
   ]
  },
  {
   "cell_type": "markdown",
   "metadata": {},
   "source": [
    "- 사전 학습된 모델은 여러 개의 층으로 이루어져 있는데, 이중 일부 상위 층을 동결하지 않고 모델에 연결하는 방식을 활용하면 사전 학습된 모델이 추가적으로 일부 학습되는 과정에서 미세하게 조정되어 현재 해결하려는 문제에 더 밀접하게 연관되도록 할 수 있다.\n",
    "- 여기선 가장 상위 합성곱 기반 층인 block5에 속한 합성곱 층들을 가중치 업데이트가 가능하도록 두고 나머지 층들은 동결한다. "
   ]
  },
  {
   "cell_type": "code",
   "execution_count": 5,
   "metadata": {},
   "outputs": [],
   "source": [
    "conv_base.trainable = True\n",
    "\n",
    "set_trainable = False\n",
    "for layer in conv_base.layers:\n",
    "    if layer.name == 'block5_conv1':\n",
    "        set_trainable = True\n",
    "    if set_trainable:\n",
    "        layer.trainable = True\n",
    "    else:\n",
    "        layer.trainable = False"
   ]
  },
  {
   "cell_type": "markdown",
   "metadata": {},
   "source": [
    "## 2. 모델 구성 및 훈련\n",
    "- 앞서 일부 층을 동결한 conv_base 모델을 활용하여 이미지 이진 분류 모델을 만들고 학습한다. 훈련 과정에서 conv_base에 속한 일부 상위 층들의 가중치 파라미터가 최신화되며 문제 해결에 더 적합한 방향으로 조정된다.\n",
    "- Overfitting을 제한하기 위해 ImageDataGenerator를 이용하여 훈련 이미지를 증식하여 학습시킨다."
   ]
  },
  {
   "cell_type": "code",
   "execution_count": 6,
   "metadata": {},
   "outputs": [
    {
     "name": "stdout",
     "output_type": "stream",
     "text": [
      "Model: \"sequential\"\n",
      "_________________________________________________________________\n",
      " Layer (type)                Output Shape              Param #   \n",
      "=================================================================\n",
      " vgg16 (Functional)          (None, 4, 4, 512)         14714688  \n",
      "                                                                 \n",
      " flatten (Flatten)           (None, 8192)              0         \n",
      "                                                                 \n",
      " dense (Dense)               (None, 256)               2097408   \n",
      "                                                                 \n",
      " dense_1 (Dense)             (None, 1)                 257       \n",
      "                                                                 \n",
      "=================================================================\n",
      "Total params: 16,812,353\n",
      "Trainable params: 9,177,089\n",
      "Non-trainable params: 7,635,264\n",
      "_________________________________________________________________\n"
     ]
    }
   ],
   "source": [
    "from tensorflow.keras import models, layers, optimizers\n",
    "\n",
    "model = models.Sequential()\n",
    "model.add(conv_base)\n",
    "model.add(layers.Flatten())\n",
    "model.add(layers.Dense(256, activation='relu'))\n",
    "model.add(layers.Dense(1, activation='sigmoid'))\n",
    "\n",
    "model.summary()"
   ]
  },
  {
   "cell_type": "code",
   "execution_count": 8,
   "metadata": {},
   "outputs": [
    {
     "name": "stdout",
     "output_type": "stream",
     "text": [
      "Found 2000 images belonging to 2 classes.\n",
      "Found 1000 images belonging to 2 classes.\n",
      "Epoch 1/100\n",
      "100/100 [==============================] - 31s 301ms/step - loss: 0.3889 - acc: 0.8365 - val_loss: 0.2697 - val_acc: 0.8820\n",
      "Epoch 2/100\n",
      "100/100 [==============================] - 28s 281ms/step - loss: 0.2826 - acc: 0.8825 - val_loss: 0.2267 - val_acc: 0.9020\n",
      "Epoch 3/100\n",
      "100/100 [==============================] - 26s 264ms/step - loss: 0.2236 - acc: 0.9115 - val_loss: 0.2090 - val_acc: 0.9060\n",
      "Epoch 4/100\n",
      "100/100 [==============================] - 27s 265ms/step - loss: 0.1898 - acc: 0.9215 - val_loss: 0.2005 - val_acc: 0.9140\n",
      "Epoch 5/100\n",
      "100/100 [==============================] - 27s 264ms/step - loss: 0.1858 - acc: 0.9310 - val_loss: 0.2006 - val_acc: 0.9150\n",
      "Epoch 6/100\n",
      "100/100 [==============================] - 27s 271ms/step - loss: 0.1576 - acc: 0.9375 - val_loss: 0.2071 - val_acc: 0.9130\n",
      "Epoch 7/100\n",
      "100/100 [==============================] - 30s 300ms/step - loss: 0.1517 - acc: 0.9370 - val_loss: 0.1801 - val_acc: 0.9300\n",
      "Epoch 8/100\n",
      "100/100 [==============================] - 27s 270ms/step - loss: 0.1334 - acc: 0.9460 - val_loss: 0.1994 - val_acc: 0.9190\n",
      "Epoch 9/100\n",
      "100/100 [==============================] - 28s 275ms/step - loss: 0.1193 - acc: 0.9515 - val_loss: 0.2784 - val_acc: 0.8920\n",
      "Epoch 10/100\n",
      "100/100 [==============================] - 27s 270ms/step - loss: 0.1097 - acc: 0.9570 - val_loss: 0.1951 - val_acc: 0.9270\n",
      "Epoch 11/100\n",
      "100/100 [==============================] - 28s 279ms/step - loss: 0.0956 - acc: 0.9645 - val_loss: 0.1739 - val_acc: 0.9320\n",
      "Epoch 12/100\n",
      "100/100 [==============================] - 27s 265ms/step - loss: 0.1024 - acc: 0.9620 - val_loss: 0.1838 - val_acc: 0.9310\n",
      "Epoch 13/100\n",
      "100/100 [==============================] - 26s 261ms/step - loss: 0.0887 - acc: 0.9680 - val_loss: 0.1727 - val_acc: 0.9340\n",
      "Epoch 14/100\n",
      "100/100 [==============================] - 26s 261ms/step - loss: 0.0776 - acc: 0.9750 - val_loss: 0.1830 - val_acc: 0.9370\n",
      "Epoch 15/100\n",
      "100/100 [==============================] - 26s 262ms/step - loss: 0.0753 - acc: 0.9675 - val_loss: 0.1876 - val_acc: 0.9350\n",
      "Epoch 16/100\n",
      "100/100 [==============================] - 26s 261ms/step - loss: 0.0686 - acc: 0.9750 - val_loss: 0.1777 - val_acc: 0.9300\n",
      "Epoch 17/100\n",
      "100/100 [==============================] - 26s 261ms/step - loss: 0.0587 - acc: 0.9780 - val_loss: 0.1823 - val_acc: 0.9330\n",
      "Epoch 18/100\n",
      "100/100 [==============================] - 26s 263ms/step - loss: 0.0517 - acc: 0.9780 - val_loss: 0.1984 - val_acc: 0.9280\n",
      "Epoch 19/100\n",
      "100/100 [==============================] - 26s 261ms/step - loss: 0.0528 - acc: 0.9795 - val_loss: 0.1912 - val_acc: 0.9350\n",
      "Epoch 20/100\n",
      "100/100 [==============================] - 26s 262ms/step - loss: 0.0464 - acc: 0.9825 - val_loss: 0.1962 - val_acc: 0.9340 5s \n",
      "Epoch 21/100\n",
      "100/100 [==============================] - 26s 261ms/step - loss: 0.0462 - acc: 0.9845 - val_loss: 0.2082 - val_acc: 0.9360\n",
      "Epoch 22/100\n",
      "100/100 [==============================] - 26s 263ms/step - loss: 0.0440 - acc: 0.9850 - val_loss: 0.1937 - val_acc: 0.9250\n",
      "Epoch 23/100\n",
      "100/100 [==============================] - 26s 260ms/step - loss: 0.0317 - acc: 0.9895 - val_loss: 0.1860 - val_acc: 0.9280\n",
      "Epoch 24/100\n",
      "100/100 [==============================] - 26s 261ms/step - loss: 0.0360 - acc: 0.9910 - val_loss: 0.1973 - val_acc: 0.9350\n",
      "Epoch 25/100\n",
      "100/100 [==============================] - 26s 261ms/step - loss: 0.0320 - acc: 0.9885 - val_loss: 0.2018 - val_acc: 0.9370\n",
      "Epoch 26/100\n",
      "100/100 [==============================] - 26s 260ms/step - loss: 0.0302 - acc: 0.9890 - val_loss: 0.1888 - val_acc: 0.9380\n",
      "Epoch 27/100\n",
      "100/100 [==============================] - 26s 261ms/step - loss: 0.0240 - acc: 0.9915 - val_loss: 0.2014 - val_acc: 0.9430\n",
      "Epoch 28/100\n",
      "100/100 [==============================] - 26s 260ms/step - loss: 0.0290 - acc: 0.9895 - val_loss: 0.2174 - val_acc: 0.9360\n",
      "Epoch 29/100\n",
      "100/100 [==============================] - 26s 262ms/step - loss: 0.0223 - acc: 0.9915 - val_loss: 0.2353 - val_acc: 0.9370\n",
      "Epoch 30/100\n",
      "100/100 [==============================] - 26s 261ms/step - loss: 0.0308 - acc: 0.9900 - val_loss: 0.2159 - val_acc: 0.9350\n",
      "Epoch 31/100\n",
      "100/100 [==============================] - 26s 260ms/step - loss: 0.0216 - acc: 0.9930 - val_loss: 0.2189 - val_acc: 0.9330\n",
      "Epoch 32/100\n",
      "100/100 [==============================] - 26s 260ms/step - loss: 0.0188 - acc: 0.9945 - val_loss: 0.2292 - val_acc: 0.9250\n",
      "Epoch 33/100\n",
      "100/100 [==============================] - 26s 260ms/step - loss: 0.0213 - acc: 0.9935 - val_loss: 0.2246 - val_acc: 0.9350\n",
      "Epoch 34/100\n",
      "100/100 [==============================] - 26s 261ms/step - loss: 0.0198 - acc: 0.9945 - val_loss: 0.2305 - val_acc: 0.9320\n",
      "Epoch 35/100\n",
      "100/100 [==============================] - 26s 261ms/step - loss: 0.0147 - acc: 0.9940 - val_loss: 0.2294 - val_acc: 0.9340\n",
      "Epoch 36/100\n",
      "100/100 [==============================] - 27s 268ms/step - loss: 0.0152 - acc: 0.9955 - val_loss: 0.2297 - val_acc: 0.9390\n",
      "Epoch 37/100\n",
      "100/100 [==============================] - 27s 269ms/step - loss: 0.0100 - acc: 0.9970 - val_loss: 0.2397 - val_acc: 0.9330\n",
      "Epoch 38/100\n",
      "100/100 [==============================] - 27s 263ms/step - loss: 0.0184 - acc: 0.9945 - val_loss: 0.2397 - val_acc: 0.9390\n",
      "Epoch 39/100\n",
      "100/100 [==============================] - 27s 268ms/step - loss: 0.0113 - acc: 0.9975 - val_loss: 0.2395 - val_acc: 0.9340\n",
      "Epoch 40/100\n",
      "100/100 [==============================] - 27s 269ms/step - loss: 0.0181 - acc: 0.9955 - val_loss: 0.2499 - val_acc: 0.9400\n",
      "Epoch 41/100\n",
      "100/100 [==============================] - 27s 265ms/step - loss: 0.0102 - acc: 0.9970 - val_loss: 0.2750 - val_acc: 0.9340\n",
      "Epoch 42/100\n",
      "100/100 [==============================] - 27s 264ms/step - loss: 0.0076 - acc: 0.9985 - val_loss: 0.3688 - val_acc: 0.9190\n",
      "Epoch 43/100\n",
      "100/100 [==============================] - 26s 261ms/step - loss: 0.0130 - acc: 0.9965 - val_loss: 0.3554 - val_acc: 0.9110\n",
      "Epoch 44/100\n",
      "100/100 [==============================] - 26s 261ms/step - loss: 0.0084 - acc: 0.9975 - val_loss: 0.2750 - val_acc: 0.9360\n",
      "Epoch 45/100\n",
      "100/100 [==============================] - 26s 260ms/step - loss: 0.0128 - acc: 0.9955 - val_loss: 0.3720 - val_acc: 0.9190\n",
      "Epoch 46/100\n",
      "100/100 [==============================] - 26s 261ms/step - loss: 0.0073 - acc: 0.9975 - val_loss: 0.3144 - val_acc: 0.9220\n",
      "Epoch 47/100\n",
      "100/100 [==============================] - 26s 261ms/step - loss: 0.0180 - acc: 0.9940 - val_loss: 0.2595 - val_acc: 0.9370\n",
      "Epoch 48/100\n",
      "100/100 [==============================] - 26s 261ms/step - loss: 0.0099 - acc: 0.9965 - val_loss: 0.2889 - val_acc: 0.9380\n",
      "Epoch 49/100\n",
      "100/100 [==============================] - 26s 261ms/step - loss: 0.0127 - acc: 0.9955 - val_loss: 0.2859 - val_acc: 0.9360\n",
      "Epoch 50/100\n",
      "100/100 [==============================] - 26s 260ms/step - loss: 0.0138 - acc: 0.9945 - val_loss: 0.3214 - val_acc: 0.9290\n",
      "Epoch 51/100\n",
      "100/100 [==============================] - 26s 261ms/step - loss: 0.0046 - acc: 0.9990 - val_loss: 0.2890 - val_acc: 0.9380 0.0048 - acc:\n",
      "Epoch 52/100\n",
      "100/100 [==============================] - 26s 261ms/step - loss: 0.0122 - acc: 0.9960 - val_loss: 0.2940 - val_acc: 0.9340\n",
      "Epoch 53/100\n",
      "100/100 [==============================] - 27s 266ms/step - loss: 0.0078 - acc: 0.9960 - val_loss: 0.2871 - val_acc: 0.9350 - loss: 0.0075\n",
      "Epoch 54/100\n",
      "100/100 [==============================] - 27s 265ms/step - loss: 0.0148 - acc: 0.9950 - val_loss: 0.2851 - val_acc: 0.9330\n",
      "Epoch 55/100\n",
      "100/100 [==============================] - 27s 264ms/step - loss: 0.0128 - acc: 0.9965 - val_loss: 0.3084 - val_acc: 0.9370\n",
      "Epoch 56/100\n",
      "100/100 [==============================] - 26s 261ms/step - loss: 0.0093 - acc: 0.9970 - val_loss: 0.2992 - val_acc: 0.9320\n",
      "Epoch 57/100\n",
      "100/100 [==============================] - 26s 261ms/step - loss: 0.0073 - acc: 0.9975 - val_loss: 0.3159 - val_acc: 0.9260\n",
      "Epoch 58/100\n",
      "100/100 [==============================] - 26s 261ms/step - loss: 0.0068 - acc: 0.9975 - val_loss: 0.2859 - val_acc: 0.9390\n",
      "Epoch 59/100\n",
      "100/100 [==============================] - 26s 263ms/step - loss: 0.0058 - acc: 0.9980 - val_loss: 0.3109 - val_acc: 0.9320\n",
      "Epoch 60/100\n",
      "100/100 [==============================] - 26s 261ms/step - loss: 0.0034 - acc: 0.9995 - val_loss: 0.2980 - val_acc: 0.9370\n",
      "Epoch 61/100\n",
      "100/100 [==============================] - 26s 261ms/step - loss: 0.0088 - acc: 0.9985 - val_loss: 0.3066 - val_acc: 0.9360\n",
      "Epoch 62/100\n",
      "100/100 [==============================] - 26s 264ms/step - loss: 0.0111 - acc: 0.9965 - val_loss: 0.3719 - val_acc: 0.9310\n",
      "Epoch 63/100\n",
      "100/100 [==============================] - 26s 260ms/step - loss: 0.0045 - acc: 0.9980 - val_loss: 0.3103 - val_acc: 0.9320\n",
      "Epoch 64/100\n",
      "100/100 [==============================] - 26s 261ms/step - loss: 0.0088 - acc: 0.9965 - val_loss: 0.3217 - val_acc: 0.9320\n",
      "Epoch 65/100\n",
      "100/100 [==============================] - 26s 261ms/step - loss: 0.0056 - acc: 0.9980 - val_loss: 0.3226 - val_acc: 0.9370\n",
      "Epoch 66/100\n",
      "100/100 [==============================] - 26s 261ms/step - loss: 0.0086 - acc: 0.9985 - val_loss: 0.3098 - val_acc: 0.9300\n",
      "Epoch 67/100\n",
      "100/100 [==============================] - 26s 261ms/step - loss: 0.0085 - acc: 0.9980 - val_loss: 0.2949 - val_acc: 0.9360\n",
      "Epoch 68/100\n",
      "100/100 [==============================] - 26s 261ms/step - loss: 0.0015 - acc: 0.9995 - val_loss: 0.3478 - val_acc: 0.9370\n",
      "Epoch 69/100\n",
      "100/100 [==============================] - 26s 260ms/step - loss: 0.0038 - acc: 0.9985 - val_loss: 0.3476 - val_acc: 0.9360\n",
      "Epoch 70/100\n",
      "100/100 [==============================] - 26s 259ms/step - loss: 0.0032 - acc: 0.9995 - val_loss: 0.3363 - val_acc: 0.9330\n",
      "Epoch 71/100\n",
      "100/100 [==============================] - 27s 267ms/step - loss: 0.0040 - acc: 0.9980 - val_loss: 0.3788 - val_acc: 0.9290\n",
      "Epoch 72/100\n",
      "100/100 [==============================] - 26s 260ms/step - loss: 0.0039 - acc: 0.9980 - val_loss: 0.4110 - val_acc: 0.9310\n",
      "Epoch 73/100\n",
      "100/100 [==============================] - 26s 261ms/step - loss: 0.0021 - acc: 0.9990 - val_loss: 0.5261 - val_acc: 0.9120\n",
      "Epoch 74/100\n",
      "100/100 [==============================] - 26s 263ms/step - loss: 0.0074 - acc: 0.9970 - val_loss: 0.3491 - val_acc: 0.9280\n",
      "Epoch 75/100\n",
      "100/100 [==============================] - 26s 263ms/step - loss: 0.0020 - acc: 0.9995 - val_loss: 0.3552 - val_acc: 0.9290\n",
      "Epoch 76/100\n",
      "100/100 [==============================] - 26s 262ms/step - loss: 0.0021 - acc: 0.9990 - val_loss: 0.3950 - val_acc: 0.9270\n",
      "Epoch 77/100\n",
      "100/100 [==============================] - 26s 260ms/step - loss: 0.0059 - acc: 0.9980 - val_loss: 0.3679 - val_acc: 0.9300\n",
      "Epoch 78/100\n",
      "100/100 [==============================] - 27s 266ms/step - loss: 0.0016 - acc: 0.9995 - val_loss: 0.4452 - val_acc: 0.9250\n",
      "Epoch 79/100\n",
      "100/100 [==============================] - 27s 264ms/step - loss: 0.0043 - acc: 0.9980 - val_loss: 0.3849 - val_acc: 0.9370\n",
      "Epoch 80/100\n",
      "100/100 [==============================] - 26s 261ms/step - loss: 0.0121 - acc: 0.9975 - val_loss: 0.4023 - val_acc: 0.9330\n",
      "Epoch 81/100\n",
      "100/100 [==============================] - 26s 260ms/step - loss: 0.0087 - acc: 0.9980 - val_loss: 0.4228 - val_acc: 0.9300\n",
      "Epoch 82/100\n",
      "100/100 [==============================] - 27s 264ms/step - loss: 0.0024 - acc: 0.9995 - val_loss: 0.3633 - val_acc: 0.9310\n",
      "Epoch 83/100\n",
      "100/100 [==============================] - 26s 261ms/step - loss: 0.0026 - acc: 0.9990 - val_loss: 0.3982 - val_acc: 0.9260\n",
      "Epoch 84/100\n",
      "100/100 [==============================] - 26s 263ms/step - loss: 0.0055 - acc: 0.9980 - val_loss: 0.4184 - val_acc: 0.9320\n",
      "Epoch 85/100\n",
      "100/100 [==============================] - 28s 278ms/step - loss: 0.0048 - acc: 0.9985 - val_loss: 0.3610 - val_acc: 0.9340\n",
      "Epoch 86/100\n",
      "100/100 [==============================] - 27s 271ms/step - loss: 0.0051 - acc: 0.9980 - val_loss: 0.3743 - val_acc: 0.9350\n",
      "Epoch 87/100\n",
      "100/100 [==============================] - 27s 264ms/step - loss: 0.0035 - acc: 0.9985 - val_loss: 0.3681 - val_acc: 0.9350\n",
      "Epoch 88/100\n",
      "100/100 [==============================] - 27s 266ms/step - loss: 0.0041 - acc: 0.9990 - val_loss: 0.3574 - val_acc: 0.9310\n",
      "Epoch 89/100\n",
      "100/100 [==============================] - 26s 261ms/step - loss: 0.0047 - acc: 0.9980 - val_loss: 0.3721 - val_acc: 0.9330\n",
      "Epoch 90/100\n",
      "100/100 [==============================] - 26s 261ms/step - loss: 0.0027 - acc: 0.9990 - val_loss: 0.3599 - val_acc: 0.9350\n",
      "Epoch 91/100\n",
      "100/100 [==============================] - 26s 261ms/step - loss: 0.0052 - acc: 0.9985 - val_loss: 0.4170 - val_acc: 0.9230\n",
      "Epoch 92/100\n",
      "100/100 [==============================] - 26s 261ms/step - loss: 0.0028 - acc: 0.9985 - val_loss: 0.3573 - val_acc: 0.9370\n",
      "Epoch 93/100\n",
      "100/100 [==============================] - 26s 260ms/step - loss: 0.0033 - acc: 0.9995 - val_loss: 0.3441 - val_acc: 0.9370\n",
      "Epoch 94/100\n",
      "100/100 [==============================] - 26s 261ms/step - loss: 0.0038 - acc: 0.9985 - val_loss: 0.3627 - val_acc: 0.9340\n",
      "Epoch 95/100\n",
      "100/100 [==============================] - 26s 261ms/step - loss: 0.0019 - acc: 0.9990 - val_loss: 0.5426 - val_acc: 0.9150\n",
      "Epoch 96/100\n",
      "100/100 [==============================] - 26s 260ms/step - loss: 0.0022 - acc: 0.9995 - val_loss: 0.3960 - val_acc: 0.9310\n",
      "Epoch 97/100\n",
      "100/100 [==============================] - 26s 263ms/step - loss: 0.0037 - acc: 0.9985 - val_loss: 0.4145 - val_acc: 0.9270\n",
      "Epoch 98/100\n",
      "100/100 [==============================] - 26s 260ms/step - loss: 0.0027 - acc: 0.9990 - val_loss: 0.4087 - val_acc: 0.9300\n",
      "Epoch 99/100\n",
      "100/100 [==============================] - 26s 260ms/step - loss: 0.0042 - acc: 0.9990 - val_loss: 0.4253 - val_acc: 0.9260\n",
      "Epoch 100/100\n",
      "100/100 [==============================] - 26s 260ms/step - loss: 0.0033 - acc: 0.9990 - val_loss: 0.3828 - val_acc: 0.9330\n"
     ]
    }
   ],
   "source": [
    "import os\n",
    "from tensorflow.keras.preprocessing.image import ImageDataGenerator\n",
    "\n",
    "base_dir = './datasets/small'\n",
    "train_dir = os.path.join(base_dir, 'train')\n",
    "validation_dir = os.path.join(base_dir, 'validation')\n",
    "test_dir = os.path.join(base_dir, 'test')\n",
    "\n",
    "train_datagen = ImageDataGenerator(\n",
    "    rescale=1./255,\n",
    "    rotation_range=20,\n",
    "    width_shift_range=0.1,\n",
    "    height_shift_range=0.1,\n",
    "    shear_range=0.1,\n",
    "    zoom_range=0.1,\n",
    "    horizontal_flip=True,\n",
    "    fill_mode='nearest'\n",
    ")\n",
    "\n",
    "test_datagen = ImageDataGenerator(rescale=1./255)\n",
    "\n",
    "train_generator = train_datagen.flow_from_directory(\n",
    "    train_dir,\n",
    "    target_size=(150,150),\n",
    "    batch_size=20,\n",
    "    class_mode='binary'\n",
    ")\n",
    "\n",
    "validation_generator = test_datagen.flow_from_directory(\n",
    "    validation_dir,\n",
    "    target_size=(150,150),\n",
    "    batch_size=20,\n",
    "    class_mode='binary'\n",
    ")\n",
    "\n",
    "model.compile(loss='binary_crossentropy', optimizer=optimizers.RMSprop(learning_rate=1e-5), metrics=['acc'])\n",
    "\n",
    "history = model.fit(\n",
    "    train_generator,\n",
    "    steps_per_epoch=100,\n",
    "    epochs=100,\n",
    "    validation_data=validation_generator,\n",
    "    validation_steps=50\n",
    ")"
   ]
  },
  {
   "cell_type": "markdown",
   "metadata": {},
   "source": [
    "## 3. 학습 결과 분석\n",
    "- 학습 결과를 그래프로 분석해본 결과 변동이 너무 심해 알아보기가 다소 어렵다.\n",
    "- 지수 이동 평균을 사용하여 그래프를 부드럽게 만들어서 결과를 확인한다."
   ]
  },
  {
   "cell_type": "code",
   "execution_count": 9,
   "metadata": {},
   "outputs": [
    {
     "data": {
      "image/png": "[encoded data removed]",
      "text/plain": [
       "<Figure size 432x288 with 1 Axes>"
      ]
     },
     "metadata": {
      "needs_background": "light"
     },
     "output_type": "display_data"
    },
    {
     "data": {
      "image/png": "[encoded data removed]",
      "text/plain": [
       "<Figure size 432x288 with 1 Axes>"
      ]
     },
     "metadata": {
      "needs_background": "light"
     },
     "output_type": "display_data"
    }
   ],
   "source": [
    "import matplotlib.pyplot as plt\n",
    "\n",
    "acc = history.history['acc']\n",
    "val_acc = history.history['val_acc']\n",
    "loss = history.history['loss']\n",
    "val_loss = history.history['val_loss']\n",
    "\n",
    "epochs = range(1, len(acc) + 1)\n",
    "\n",
    "plt.plot(epochs, acc, 'bo', label = 'Training acc')\n",
    "plt.plot(epochs, val_acc, 'r', label = 'Validation acc')\n",
    "plt.title('Training and validation accuracy')\n",
    "plt.legend()\n",
    "\n",
    "plt.figure()\n",
    "\n",
    "plt.plot(epochs, loss, 'bo', label = 'Training loss')\n",
    "plt.plot(epochs, val_loss, 'r', label = 'Validation loss')\n",
    "plt.title('Training and validation loss')\n",
    "plt.legend()\n",
    "\n",
    "plt.show()"
   ]
  },
  {
   "cell_type": "code",
   "execution_count": 10,
   "metadata": {},
   "outputs": [
    {
     "data": {
      "image/png": "[encoded data removed]",
      "text/plain": [
       "<Figure size 432x288 with 1 Axes>"
      ]
     },
     "metadata": {
      "needs_background": "light"
     },
     "output_type": "display_data"
    },
    {
     "data": {
      "image/png": "[encoded data removed]",
      "text/plain": [
       "<Figure size 432x288 with 1 Axes>"
      ]
     },
     "metadata": {
      "needs_background": "light"
     },
     "output_type": "display_data"
    }
   ],
   "source": [
    "def smooth_curve(points, factor=0.8):\n",
    "    smoothed_points = []\n",
    "    for point in points:\n",
    "        if smoothed_points:\n",
    "            previous = smoothed_points[-1]\n",
    "            smoothed_points.append(previous * factor + point * (1-factor))\n",
    "        else:\n",
    "            smoothed_points.append(point)\n",
    "    return smoothed_points\n",
    "\n",
    "plt.plot(epochs, smooth_curve(acc), 'bo', label='Smoothed training acc')\n",
    "plt.plot(epochs, smooth_curve(val_acc), 'r', label='Smoothed validation acc')\n",
    "plt.title('Training and validation accuracy')\n",
    "plt.legend()\n",
    "plt.figure()\n",
    "\n",
    "plt.plot(epochs, smooth_curve(loss), 'bo', label='Smoothed training loss')\n",
    "plt.plot(epochs, smooth_curve(val_loss), 'r', label='Smoothed validation loss')\n",
    "plt.title('Training and validation loss')\n",
    "plt.legend()\n",
    "\n",
    "plt.show()"
   ]
  },
  {
   "cell_type": "markdown",
   "metadata": {},
   "source": [
    "- 분석 결과 정확도는 향상되었지만 손실은 다소 악화되었다. 그 이유는 손실 그래프가 각각의 손실 값들의 평균을 그린 것이기 때문에, 실제 정확도에 영향을 직접적으로 미치는 손실 값의 분포 양상과는 다소 다른 모양을 그릴 수 있기 때문이다.\n",
    "- 마지막으로 테스트 데이터를 활용하여 모델을 평가하고, 향후 작업을 위해 모델을 저장한다."
   ]
  },
  {
   "cell_type": "code",
   "execution_count": 17,
   "metadata": {},
   "outputs": [
    {
     "name": "stdout",
     "output_type": "stream",
     "text": [
      "Found 1000 images belonging to 2 classes.\n",
      "50/50 [==============================] - 8s 148ms/step - loss: 0.3489 - acc: 0.9420\n",
      "Test accuracy: 94.20%\n"
     ]
    }
   ],
   "source": [
    "test_generator = test_datagen.flow_from_directory(test_dir, target_size=(150,150),batch_size=20,class_mode='binary')\n",
    "test_loss, test_acc = model.evaluate(test_generator, steps=50)\n",
    "print('Test accuracy: %.2f%%' % (test_acc * 100))"
   ]
  },
  {
   "cell_type": "code",
   "execution_count": 15,
   "metadata": {},
   "outputs": [],
   "source": [
    "import numpy as np\n",
    "\n",
    "def save_model(model, history, num=1):\n",
    "    model.save('cats_and_dogs_small_%d.h5' % num)\n",
    "    np.save('cats_and_dogs_history_%d.npy' % num,history.history)\n",
    "\n",
    "save_model(model, history, num=4)"
   ]
  },
  {
   "cell_type": "markdown",
   "metadata": {},
   "source": [
    "- 테스트 결과 약 94% 이상의 정확도를 얻었다. 원래 캐글 경연에서도 꽤 높은 결과이며, 전체 20,000개의 데이터 중 약 10%만 활용해서 얻은 결과라는 점에 큰 의미가 있다고 할 수 있다."
   ]
  }
 ],
 "metadata": {
  "interpreter": {
   "hash": "b3ba2566441a7c06988d0923437866b63cedc61552a5af99d1f4fb67d367b25f"
  },
  "kernelspec": {
   "display_name": "Python 3.9.7 64-bit ('base': conda)",
   "language": "python",
   "name": "python3"
  },
  "language_info": {
   "codemirror_mode": {
    "name": "ipython",
    "version": 3
   },
   "file_extension": ".py",
   "mimetype": "text/x-python",
   "name": "python",
   "nbconvert_exporter": "python",
   "pygments_lexer": "ipython3",
   "version": "3.9.7"
  },
  "orig_nbformat": 4
 },
 "nbformat": 4,
 "nbformat_minor": 2
}
